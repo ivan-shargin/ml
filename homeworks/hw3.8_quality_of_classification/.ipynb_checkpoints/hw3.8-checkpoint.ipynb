{
 "cells": [
  {
   "cell_type": "code",
   "execution_count": 16,
   "metadata": {},
   "outputs": [],
   "source": [
    "import numpy as np\n",
    "import pandas as pd\n",
    "from sklearn.model_selection import train_test_split\n",
    "from sklearn.ensemble import RandomForestClassifier\n",
    "from sklearn.metrics import accuracy_score, confusion_matrix, roc_curve"
   ]
  },
  {
   "cell_type": "code",
   "execution_count": 2,
   "metadata": {},
   "outputs": [],
   "source": [
    "df = pd.read_csv('music_binary.csv')"
   ]
  },
  {
   "cell_type": "code",
   "execution_count": 5,
   "metadata": {},
   "outputs": [
    {
     "data": {
      "text/html": [
       "<div>\n",
       "<style scoped>\n",
       "    .dataframe tbody tr th:only-of-type {\n",
       "        vertical-align: middle;\n",
       "    }\n",
       "\n",
       "    .dataframe tbody tr th {\n",
       "        vertical-align: top;\n",
       "    }\n",
       "\n",
       "    .dataframe thead th {\n",
       "        text-align: right;\n",
       "    }\n",
       "</style>\n",
       "<table border=\"1\" class=\"dataframe\">\n",
       "  <thead>\n",
       "    <tr style=\"text-align: right;\">\n",
       "      <th></th>\n",
       "      <th>duration_ms</th>\n",
       "      <th>explicit</th>\n",
       "      <th>danceability</th>\n",
       "      <th>energy</th>\n",
       "      <th>key</th>\n",
       "      <th>loudness</th>\n",
       "      <th>mode</th>\n",
       "      <th>speechiness</th>\n",
       "      <th>acousticness</th>\n",
       "      <th>instrumentalness</th>\n",
       "      <th>liveness</th>\n",
       "      <th>valence</th>\n",
       "      <th>tempo</th>\n",
       "      <th>time_signature</th>\n",
       "      <th>track_genre</th>\n",
       "      <th>popularity_bin</th>\n",
       "    </tr>\n",
       "  </thead>\n",
       "  <tbody>\n",
       "    <tr>\n",
       "      <th>0</th>\n",
       "      <td>230613</td>\n",
       "      <td>False</td>\n",
       "      <td>0.509</td>\n",
       "      <td>0.448</td>\n",
       "      <td>4</td>\n",
       "      <td>-7.552</td>\n",
       "      <td>0</td>\n",
       "      <td>0.0357</td>\n",
       "      <td>0.00713</td>\n",
       "      <td>0.013700</td>\n",
       "      <td>0.2440</td>\n",
       "      <td>0.221</td>\n",
       "      <td>156.909</td>\n",
       "      <td>3</td>\n",
       "      <td>0.0</td>\n",
       "      <td>1</td>\n",
       "    </tr>\n",
       "    <tr>\n",
       "      <th>1</th>\n",
       "      <td>208760</td>\n",
       "      <td>False</td>\n",
       "      <td>0.636</td>\n",
       "      <td>0.676</td>\n",
       "      <td>2</td>\n",
       "      <td>-3.442</td>\n",
       "      <td>1</td>\n",
       "      <td>0.0263</td>\n",
       "      <td>0.08070</td>\n",
       "      <td>0.000000</td>\n",
       "      <td>0.0831</td>\n",
       "      <td>0.273</td>\n",
       "      <td>113.980</td>\n",
       "      <td>4</td>\n",
       "      <td>0.0</td>\n",
       "      <td>1</td>\n",
       "    </tr>\n",
       "    <tr>\n",
       "      <th>2</th>\n",
       "      <td>180690</td>\n",
       "      <td>False</td>\n",
       "      <td>0.573</td>\n",
       "      <td>0.539</td>\n",
       "      <td>2</td>\n",
       "      <td>-6.091</td>\n",
       "      <td>0</td>\n",
       "      <td>0.0322</td>\n",
       "      <td>0.01620</td>\n",
       "      <td>0.000012</td>\n",
       "      <td>0.1050</td>\n",
       "      <td>0.390</td>\n",
       "      <td>75.012</td>\n",
       "      <td>4</td>\n",
       "      <td>0.0</td>\n",
       "      <td>1</td>\n",
       "    </tr>\n",
       "    <tr>\n",
       "      <th>3</th>\n",
       "      <td>232106</td>\n",
       "      <td>False</td>\n",
       "      <td>0.743</td>\n",
       "      <td>0.446</td>\n",
       "      <td>4</td>\n",
       "      <td>-7.807</td>\n",
       "      <td>0</td>\n",
       "      <td>0.0683</td>\n",
       "      <td>0.00390</td>\n",
       "      <td>0.118000</td>\n",
       "      <td>0.3370</td>\n",
       "      <td>0.278</td>\n",
       "      <td>123.596</td>\n",
       "      <td>4</td>\n",
       "      <td>0.0</td>\n",
       "      <td>1</td>\n",
       "    </tr>\n",
       "    <tr>\n",
       "      <th>4</th>\n",
       "      <td>225026</td>\n",
       "      <td>False</td>\n",
       "      <td>0.572</td>\n",
       "      <td>0.214</td>\n",
       "      <td>7</td>\n",
       "      <td>-15.625</td>\n",
       "      <td>1</td>\n",
       "      <td>0.0293</td>\n",
       "      <td>0.64900</td>\n",
       "      <td>0.129000</td>\n",
       "      <td>0.1250</td>\n",
       "      <td>0.485</td>\n",
       "      <td>95.542</td>\n",
       "      <td>4</td>\n",
       "      <td>0.0</td>\n",
       "      <td>1</td>\n",
       "    </tr>\n",
       "    <tr>\n",
       "      <th>5</th>\n",
       "      <td>243329</td>\n",
       "      <td>False</td>\n",
       "      <td>0.691</td>\n",
       "      <td>0.841</td>\n",
       "      <td>8</td>\n",
       "      <td>-7.026</td>\n",
       "      <td>0</td>\n",
       "      <td>0.0436</td>\n",
       "      <td>0.00438</td>\n",
       "      <td>0.000044</td>\n",
       "      <td>0.3100</td>\n",
       "      <td>0.755</td>\n",
       "      <td>92.025</td>\n",
       "      <td>4</td>\n",
       "      <td>0.0</td>\n",
       "      <td>1</td>\n",
       "    </tr>\n",
       "    <tr>\n",
       "      <th>6</th>\n",
       "      <td>268040</td>\n",
       "      <td>False</td>\n",
       "      <td>0.270</td>\n",
       "      <td>0.577</td>\n",
       "      <td>0</td>\n",
       "      <td>-8.195</td>\n",
       "      <td>1</td>\n",
       "      <td>0.0573</td>\n",
       "      <td>0.75500</td>\n",
       "      <td>0.123000</td>\n",
       "      <td>0.1390</td>\n",
       "      <td>0.362</td>\n",
       "      <td>170.254</td>\n",
       "      <td>4</td>\n",
       "      <td>0.0</td>\n",
       "      <td>0</td>\n",
       "    </tr>\n",
       "    <tr>\n",
       "      <th>7</th>\n",
       "      <td>240773</td>\n",
       "      <td>False</td>\n",
       "      <td>0.579</td>\n",
       "      <td>0.409</td>\n",
       "      <td>0</td>\n",
       "      <td>-10.095</td>\n",
       "      <td>1</td>\n",
       "      <td>0.0268</td>\n",
       "      <td>0.62400</td>\n",
       "      <td>0.000018</td>\n",
       "      <td>0.1800</td>\n",
       "      <td>0.526</td>\n",
       "      <td>109.417</td>\n",
       "      <td>3</td>\n",
       "      <td>0.0</td>\n",
       "      <td>0</td>\n",
       "    </tr>\n",
       "    <tr>\n",
       "      <th>8</th>\n",
       "      <td>285373</td>\n",
       "      <td>False</td>\n",
       "      <td>0.614</td>\n",
       "      <td>0.724</td>\n",
       "      <td>7</td>\n",
       "      <td>-7.521</td>\n",
       "      <td>1</td>\n",
       "      <td>0.0247</td>\n",
       "      <td>0.21700</td>\n",
       "      <td>0.000256</td>\n",
       "      <td>0.1460</td>\n",
       "      <td>0.902</td>\n",
       "      <td>97.863</td>\n",
       "      <td>4</td>\n",
       "      <td>0.0</td>\n",
       "      <td>0</td>\n",
       "    </tr>\n",
       "    <tr>\n",
       "      <th>9</th>\n",
       "      <td>285373</td>\n",
       "      <td>False</td>\n",
       "      <td>0.614</td>\n",
       "      <td>0.724</td>\n",
       "      <td>7</td>\n",
       "      <td>-7.521</td>\n",
       "      <td>1</td>\n",
       "      <td>0.0247</td>\n",
       "      <td>0.21700</td>\n",
       "      <td>0.000256</td>\n",
       "      <td>0.1460</td>\n",
       "      <td>0.902</td>\n",
       "      <td>97.863</td>\n",
       "      <td>4</td>\n",
       "      <td>0.0</td>\n",
       "      <td>0</td>\n",
       "    </tr>\n",
       "  </tbody>\n",
       "</table>\n",
       "</div>"
      ],
      "text/plain": [
       "   duration_ms  explicit  danceability  energy  key  loudness  mode  \\\n",
       "0       230613     False         0.509   0.448    4    -7.552     0   \n",
       "1       208760     False         0.636   0.676    2    -3.442     1   \n",
       "2       180690     False         0.573   0.539    2    -6.091     0   \n",
       "3       232106     False         0.743   0.446    4    -7.807     0   \n",
       "4       225026     False         0.572   0.214    7   -15.625     1   \n",
       "5       243329     False         0.691   0.841    8    -7.026     0   \n",
       "6       268040     False         0.270   0.577    0    -8.195     1   \n",
       "7       240773     False         0.579   0.409    0   -10.095     1   \n",
       "8       285373     False         0.614   0.724    7    -7.521     1   \n",
       "9       285373     False         0.614   0.724    7    -7.521     1   \n",
       "\n",
       "   speechiness  acousticness  instrumentalness  liveness  valence    tempo  \\\n",
       "0       0.0357       0.00713          0.013700    0.2440    0.221  156.909   \n",
       "1       0.0263       0.08070          0.000000    0.0831    0.273  113.980   \n",
       "2       0.0322       0.01620          0.000012    0.1050    0.390   75.012   \n",
       "3       0.0683       0.00390          0.118000    0.3370    0.278  123.596   \n",
       "4       0.0293       0.64900          0.129000    0.1250    0.485   95.542   \n",
       "5       0.0436       0.00438          0.000044    0.3100    0.755   92.025   \n",
       "6       0.0573       0.75500          0.123000    0.1390    0.362  170.254   \n",
       "7       0.0268       0.62400          0.000018    0.1800    0.526  109.417   \n",
       "8       0.0247       0.21700          0.000256    0.1460    0.902   97.863   \n",
       "9       0.0247       0.21700          0.000256    0.1460    0.902   97.863   \n",
       "\n",
       "   time_signature  track_genre  popularity_bin  \n",
       "0               3          0.0               1  \n",
       "1               4          0.0               1  \n",
       "2               4          0.0               1  \n",
       "3               4          0.0               1  \n",
       "4               4          0.0               1  \n",
       "5               4          0.0               1  \n",
       "6               4          0.0               0  \n",
       "7               3          0.0               0  \n",
       "8               4          0.0               0  \n",
       "9               4          0.0               0  "
      ]
     },
     "execution_count": 5,
     "metadata": {},
     "output_type": "execute_result"
    }
   ],
   "source": [
    "df.head(10)"
   ]
  },
  {
   "cell_type": "code",
   "execution_count": 6,
   "metadata": {},
   "outputs": [],
   "source": [
    "X = df.drop('popularity_bin', axis=1)\n",
    "y = df['popularity_bin']"
   ]
  },
  {
   "cell_type": "code",
   "execution_count": 11,
   "metadata": {},
   "outputs": [],
   "source": [
    "X_train, X_test, y_train, y_test = train_test_split(X, y, test_size=0.2, random_state=1)"
   ]
  },
  {
   "cell_type": "code",
   "execution_count": 45,
   "metadata": {},
   "outputs": [
    {
     "name": "stdout",
     "output_type": "stream",
     "text": [
      "Accuracy: 0.777\n",
      "Confusion Matrix:\n",
      " [[513  86]\n",
      " [137 264]]\n"
     ]
    }
   ],
   "source": [
    "# Initialize the Random Forest Classifier\n",
    "rf_classifier = RandomForestClassifier(random_state=1)\n",
    "\n",
    "# Train the classifier\n",
    "rf_classifier.fit(X_train, y_train)\n",
    "\n",
    "# Make predictions on the test set\n",
    "y_pred = rf_classifier.predict(X_test)\n",
    "\n",
    "# Evaluate the model\n",
    "print(\"Accuracy:\", accuracy_score(y_test, y_pred))\n",
    "print(\"Confusion Matrix:\\n\", confusion_matrix(y_test, y_pred))"
   ]
  },
  {
   "cell_type": "code",
   "execution_count": 31,
   "metadata": {},
   "outputs": [],
   "source": [
    "import matplotlib.pyplot as plt\n",
    "from sklearn.metrics import RocCurveDisplay"
   ]
  },
  {
   "cell_type": "code",
   "execution_count": 46,
   "metadata": {},
   "outputs": [
    {
     "data": {
      "image/png": "[encoded data removed]",
      "text/plain": [
       "<Figure size 432x288 with 1 Axes>"
      ]
     },
     "metadata": {
      "needs_background": "light"
     },
     "output_type": "display_data"
    }
   ],
   "source": [
    "ax = plt.gca()\n",
    "rfc_disp = RocCurveDisplay.from_estimator(estimator=rf_classifier, X=X_test, y=y_test, ax=ax, alpha=0.8)\n",
    "plt.show()"
   ]
  },
  {
   "cell_type": "code",
   "execution_count": 47,
   "metadata": {},
   "outputs": [
    {
     "name": "stdout",
     "output_type": "stream",
     "text": [
      "FPR at threshold 0.5: 0.14524207011686144\n",
      "TPR at threshold 0.5: 0.6608478802992519\n"
     ]
    }
   ],
   "source": [
    "y_scores = rf_classifier.predict_proba(X_test)[:, 1]  # Assuming binary classification\n",
    "\n",
    "# Calculate FPR and TPR at threshold 0.5\n",
    "fpr, tpr, thresholds = roc_curve(y_test, y_scores)\n",
    "threshold_0_5_index = np.where(thresholds == 0.5)[0][0]\n",
    "fpr_at_0_5 = fpr[threshold_0_5_index]\n",
    "tpr_at_0_5 = tpr[threshold_0_5_index]\n",
    "\n",
    "print(f\"FPR at threshold 0.5: {fpr_at_0_5}\")\n",
    "print(f\"TPR at threshold 0.5: {tpr_at_0_5}\")"
   ]
  },
  {
   "cell_type": "code",
   "execution_count": 39,
   "metadata": {},
   "outputs": [
    {
     "name": "stdout",
     "output_type": "stream",
     "text": [
      "131\n"
     ]
    }
   ],
   "source": [
    "print(threshold_0_5_index)"
   ]
  },
  {
   "cell_type": "code",
   "execution_count": 54,
   "metadata": {},
   "outputs": [
    {
     "name": "stdout",
     "output_type": "stream",
     "text": [
      "Accuracy: 0.701\n",
      "Confusion Matrix:\n",
      " [[545  54]\n",
      " [245 156]]\n"
     ]
    }
   ],
   "source": [
    "rf_classifier_2 = RandomForestClassifier(max_depth=5, random_state=1)\n",
    "\n",
    "# Train the classifier\n",
    "rf_classifier_2.fit(X_train, y_train)\n",
    "\n",
    "# Make predictions on the test set\n",
    "y_pred = rf_classifier_2.predict(X_test)\n",
    "\n",
    "# Evaluate the model\n",
    "print(\"Accuracy:\", accuracy_score(y_test, y_pred))\n",
    "print(\"Confusion Matrix:\\n\", confusion_matrix(y_test, y_pred))"
   ]
  },
  {
   "cell_type": "code",
   "execution_count": 55,
   "metadata": {},
   "outputs": [
    {
     "data": {
      "image/png": "[encoded data removed]",
      "text/plain": [
       "<Figure size 432x288 with 1 Axes>"
      ]
     },
     "metadata": {
      "needs_background": "light"
     },
     "output_type": "display_data"
    }
   ],
   "source": [
    "ax = plt.gca()\n",
    "rfc_disp = RocCurveDisplay.from_estimator(estimator=rf_classifier_2, X=X_test, y=y_test, ax=ax, alpha=0.8)\n",
    "plt.show()"
   ]
  },
  {
   "cell_type": "code",
   "execution_count": 62,
   "metadata": {},
   "outputs": [
    {
     "name": "stdout",
     "output_type": "stream",
     "text": [
      "Best threshold: 0.3533333333333333\n",
      "Best F1 Score: 0.7268817204301076\n"
     ]
    }
   ],
   "source": [
    "from sklearn.metrics import precision_recall_curve, f1_score\n",
    "\n",
    "# Assuming y_pred_test contains the predictions made by the classifier\n",
    "# and y_test contains the true labels\n",
    "y_scores = rf_classifier.predict_proba(X_test)\n",
    "\n",
    "# Calculate precision, recall, and thresholds\n",
    "precision, recall, thresholds = precision_recall_curve(y_test, y_scores[:, 1])\n",
    "\n",
    "# Calculate F1 scores for each threshold\n",
    "f1_scores = 2 * precision * recall / (precision + recall)\n",
    "\n",
    "# Find the threshold that maximizes the F1 score\n",
    "best_threshold = thresholds[np.argmax(f1_scores)]\n",
    "best_f1_score = np.max(f1_scores)\n",
    "\n",
    "print(f\"Best threshold: {best_threshold}\")\n",
    "print(f\"Best F1 Score: {best_f1_score}\")"
   ]
  },
  {
   "cell_type": "code",
   "execution_count": 63,
   "metadata": {},
   "outputs": [
    {
     "name": "stdout",
     "output_type": "stream",
     "text": [
      "Precision at threshold 0.3533333333333333: 0.6382575757575758\n",
      "Recall at threshold 0.3533333333333333: 0.8403990024937655\n"
     ]
    }
   ],
   "source": [
    "from sklearn.metrics import precision_score, recall_score\n",
    "\n",
    "# Assuming y_true contains the true labels and y_scores contains the predicted probabilities\n",
    "# y_true = [...], y_scores = [...]\n",
    "\n",
    "# Specify the threshold\n",
    "threshold = best_threshold\n",
    "\n",
    "y_scores = y_scores[:, 1]\n",
    "# Convert probabilities to binary predictions\n",
    "y_pred_binary = (y_scores > threshold).astype(int)\n",
    "\n",
    "# Calculate precision and recall at the specified threshold\n",
    "precision = precision_score(y_test, y_pred_binary)\n",
    "recall = recall_score(y_test, y_pred_binary)\n",
    "\n",
    "print(f\"Precision at threshold {threshold}: {precision}\")\n",
    "print(f\"Recall at threshold {threshold}: {recall}\")"
   ]
  },
  {
   "cell_type": "code",
   "execution_count": null,
   "metadata": {},
   "outputs": [],
   "source": [
    "from sklearn.model_selection import cross_val_score\n",
    "import numpy as np\n",
    "\n",
    "# Assuming X_train and y_train are your training data and labels\n",
    "# X_train = [...], y_train = [...]\n",
    "\n",
    "# Initialize the Random Forest Classifier\n",
    "rf_classifier = RandomForestClassifier(random_state=1)\n",
    "\n",
    "# Perform 5-Fold Cross Validation\n",
    "scores = cross_val_score(rf_classifier, X_train, y_train, cv=5)\n",
    "\n",
    "# Print the mean score and standard deviation\n",
    "print(\"Mean Score: {:.3f}\".format(np.mean(scores)))\n",
    "print(\"Standard Deviation: {:.3f}\".format(np.std(scores)))"
   ]
  }
 ],
 "metadata": {
  "kernelspec": {
   "display_name": "Python 3",
   "language": "python",
   "name": "python3"
  },
  "language_info": {
   "codemirror_mode": {
    "name": "ipython",
    "version": 3
   },
   "file_extension": ".py",
   "mimetype": "text/x-python",
   "name": "python",
   "nbconvert_exporter": "python",
   "pygments_lexer": "ipython3",
   "version": "3.8.10"
  }
 },
 "nbformat": 4,
 "nbformat_minor": 4
}
