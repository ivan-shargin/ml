{
 "cells": [
  {
   "cell_type": "markdown",
   "metadata": {},
   "source": [
    "## Lab 2"
   ]
  },
  {
   "cell_type": "markdown",
   "metadata": {},
   "source": [
    "### Part 3. Poetry generation\n",
    "\n",
    "Let's try to generate some poetry using RNNs. \n",
    "\n",
    "You have several choices here: \n",
    "\n",
    "* The Shakespeare sonnets, file `sonnets.txt` available in the notebook directory.\n",
    "\n",
    "* Роман в стихах \"Евгений Онегин\" Александра Сергеевича Пушкина. В предобработанном виде доступен по [ссылке](https://github.com/attatrol/data_sources/blob/master/onegin.txt).\n",
    "\n",
    "* Some other text source, if it will be approved by the course staff.\n",
    "\n",
    "Text generation can be designed in several steps:\n",
    "    \n",
    "1. Data loading.\n",
    "2. Dictionary generation.\n",
    "3. Data preprocessing.\n",
    "4. Model (neural network) training.\n",
    "5. Text generation (model evaluation).\n"
   ]
  },
  {
   "cell_type": "code",
   "execution_count": 30,
   "metadata": {},
   "outputs": [],
   "source": [
    "import string\n",
    "import os\n",
    "import numpy as np"
   ]
  },
  {
   "cell_type": "markdown",
   "metadata": {},
   "source": [
    "### Data loading: Shakespeare"
   ]
  },
  {
   "cell_type": "markdown",
   "metadata": {},
   "source": [
    "Shakespeare sonnets are awailable at this [link](http://www.gutenberg.org/ebooks/1041?msg=welcome_stranger). In addition, they are stored in the same directory as this notebook (`sonnetes.txt`). Simple preprocessing is already done for you in the next cell: all technical info is dropped."
   ]
  },
  {
   "cell_type": "code",
   "execution_count": 10,
   "metadata": {},
   "outputs": [],
   "source": [
    "if not os.path.exists('sonnets.txt'):\n",
    "    !wget https://raw.githubusercontent.com/girafe-ai/ml-course/22f_basic/homeworks/lab02_deep_learning/sonnets.txt\n",
    "\n",
    "with open('sonnets.txt', 'r') as iofile:\n",
    "    text = iofile.readlines()\n",
    "    \n",
    "TEXT_START = 45\n",
    "TEXT_END = -368\n",
    "text = text[TEXT_START : TEXT_END]\n",
    "assert len(text) == 2616"
   ]
  },
  {
   "cell_type": "code",
   "execution_count": 11,
   "metadata": {},
   "outputs": [
    {
     "data": {
      "text/plain": [
       "' '"
      ]
     },
     "execution_count": 11,
     "metadata": {},
     "output_type": "execute_result"
    }
   ],
   "source": [
    "text[181][0]"
   ]
  },
  {
   "cell_type": "markdown",
   "metadata": {},
   "source": [
    "In opposite to the in-class practice, this time we want to predict complex text. Let's reduce the complexity of the task and lowercase all the symbols.\n",
    "\n",
    "Now variable `text` is a list of strings. Join all the strings into one and lowercase it."
   ]
  },
  {
   "cell_type": "code",
   "execution_count": 25,
   "metadata": {},
   "outputs": [
    {
     "name": "stdout",
     "output_type": "stream",
     "text": [
      "OK!\n"
     ]
    }
   ],
   "source": [
    "# Join all the strings into one and lowercase it\n",
    "# Put result into variable text.\n",
    "\n",
    "# Your great code here\n",
    "text = ''.join(text)\n",
    "text = text.lower()\n",
    "\n",
    "assert len(text) == 100225, 'Are you sure you have concatenated all the strings?'\n",
    "assert not any([x in set(text) for x in string.ascii_uppercase]), 'Uppercase letters are present'\n",
    "print('OK!')"
   ]
  },
  {
   "cell_type": "markdown",
   "metadata": {},
   "source": [
    "### Data loading: \"Евгений Онегин\"\n"
   ]
  },
  {
   "cell_type": "code",
   "execution_count": 13,
   "metadata": {},
   "outputs": [],
   "source": [
    "# !wget https://raw.githubusercontent.com/attatrol/data_sources/master/onegin.txt\n",
    "    \n",
    "# with open('onegin.txt', 'r') as iofile:\n",
    "#     text = iofile.readlines()\n",
    "    \n",
    "# text = [x.replace('\\t\\t', '') for x in text]"
   ]
  },
  {
   "cell_type": "markdown",
   "metadata": {},
   "source": [
    "In opposite to the in-class practice, this time we want to predict complex text. Let's reduce the complexity of the task and lowercase all the symbols.\n",
    "\n",
    "Now variable `text` is a list of strings. Join all the strings into one and lowercase it."
   ]
  },
  {
   "cell_type": "code",
   "execution_count": 14,
   "metadata": {},
   "outputs": [],
   "source": [
    "# Join all the strings into one and lowercase it\n",
    "# Put result into variable text.\n",
    "\n",
    "# Your great code here\n"
   ]
  },
  {
   "cell_type": "markdown",
   "metadata": {},
   "source": [
    "Put all the characters, that you've seen in the text, into variable `tokens`."
   ]
  },
  {
   "cell_type": "code",
   "execution_count": 15,
   "metadata": {},
   "outputs": [],
   "source": [
    "tokens = sorted(set(text))"
   ]
  },
  {
   "cell_type": "code",
   "execution_count": 16,
   "metadata": {},
   "outputs": [
    {
     "data": {
      "text/plain": [
       "['\\n',\n",
       " ' ',\n",
       " '!',\n",
       " \"'\",\n",
       " '(',\n",
       " ')',\n",
       " ',',\n",
       " '-',\n",
       " '.',\n",
       " ':',\n",
       " ';',\n",
       " '?',\n",
       " 'a',\n",
       " 'b',\n",
       " 'c',\n",
       " 'd',\n",
       " 'e',\n",
       " 'f',\n",
       " 'g',\n",
       " 'h',\n",
       " 'i',\n",
       " 'j',\n",
       " 'k',\n",
       " 'l',\n",
       " 'm',\n",
       " 'n',\n",
       " 'o',\n",
       " 'p',\n",
       " 'q',\n",
       " 'r',\n",
       " 's',\n",
       " 't',\n",
       " 'u',\n",
       " 'v',\n",
       " 'w',\n",
       " 'x',\n",
       " 'y',\n",
       " 'z']"
      ]
     },
     "execution_count": 16,
     "metadata": {},
     "output_type": "execute_result"
    }
   ],
   "source": [
    "tokens"
   ]
  },
  {
   "cell_type": "code",
   "execution_count": 17,
   "metadata": {},
   "outputs": [],
   "source": [
    "token_to_idx = {}\n",
    "idx_to_token = {}\n",
    "\n",
    "# Populate char_to_index dictionary\n",
    "for index, char in enumerate(tokens):\n",
    "    token_to_idx[char] = index\n",
    "\n",
    "# Populate index_to_char dictionary\n",
    "for index, char in enumerate(tokens):\n",
    "    idx_to_token[index] = char"
   ]
  },
  {
   "cell_type": "code",
   "execution_count": 18,
   "metadata": {},
   "outputs": [
    {
     "data": {
      "text/plain": [
       "{'\\n': 0,\n",
       " ' ': 1,\n",
       " '!': 2,\n",
       " \"'\": 3,\n",
       " '(': 4,\n",
       " ')': 5,\n",
       " ',': 6,\n",
       " '-': 7,\n",
       " '.': 8,\n",
       " ':': 9,\n",
       " ';': 10,\n",
       " '?': 11,\n",
       " 'a': 12,\n",
       " 'b': 13,\n",
       " 'c': 14,\n",
       " 'd': 15,\n",
       " 'e': 16,\n",
       " 'f': 17,\n",
       " 'g': 18,\n",
       " 'h': 19,\n",
       " 'i': 20,\n",
       " 'j': 21,\n",
       " 'k': 22,\n",
       " 'l': 23,\n",
       " 'm': 24,\n",
       " 'n': 25,\n",
       " 'o': 26,\n",
       " 'p': 27,\n",
       " 'q': 28,\n",
       " 'r': 29,\n",
       " 's': 30,\n",
       " 't': 31,\n",
       " 'u': 32,\n",
       " 'v': 33,\n",
       " 'w': 34,\n",
       " 'x': 35,\n",
       " 'y': 36,\n",
       " 'z': 37}"
      ]
     },
     "execution_count": 18,
     "metadata": {},
     "output_type": "execute_result"
    }
   ],
   "source": [
    "token_to_idx"
   ]
  },
  {
   "cell_type": "code",
   "execution_count": 19,
   "metadata": {},
   "outputs": [
    {
     "data": {
      "text/plain": [
       "{0: '\\n',\n",
       " 1: ' ',\n",
       " 2: '!',\n",
       " 3: \"'\",\n",
       " 4: '(',\n",
       " 5: ')',\n",
       " 6: ',',\n",
       " 7: '-',\n",
       " 8: '.',\n",
       " 9: ':',\n",
       " 10: ';',\n",
       " 11: '?',\n",
       " 12: 'a',\n",
       " 13: 'b',\n",
       " 14: 'c',\n",
       " 15: 'd',\n",
       " 16: 'e',\n",
       " 17: 'f',\n",
       " 18: 'g',\n",
       " 19: 'h',\n",
       " 20: 'i',\n",
       " 21: 'j',\n",
       " 22: 'k',\n",
       " 23: 'l',\n",
       " 24: 'm',\n",
       " 25: 'n',\n",
       " 26: 'o',\n",
       " 27: 'p',\n",
       " 28: 'q',\n",
       " 29: 'r',\n",
       " 30: 's',\n",
       " 31: 't',\n",
       " 32: 'u',\n",
       " 33: 'v',\n",
       " 34: 'w',\n",
       " 35: 'x',\n",
       " 36: 'y',\n",
       " 37: 'z'}"
      ]
     },
     "execution_count": 19,
     "metadata": {},
     "output_type": "execute_result"
    }
   ],
   "source": [
    "idx_to_token"
   ]
  },
  {
   "cell_type": "markdown",
   "metadata": {},
   "source": [
    "Create dictionary `token_to_idx = {<char>: <index>}` and dictionary `idx_to_token = {<index>: <char>}`"
   ]
  },
  {
   "cell_type": "code",
   "execution_count": 20,
   "metadata": {},
   "outputs": [],
   "source": [
    "# dict <index>:<char>\n",
    "# Your great code here\n",
    "\n",
    "# dict <char>:<index>\n",
    "# Your great code here"
   ]
  },
  {
   "cell_type": "code",
   "execution_count": 21,
   "metadata": {},
   "outputs": [
    {
     "data": {
      "text/plain": [
       "11"
      ]
     },
     "execution_count": 21,
     "metadata": {},
     "output_type": "execute_result"
    }
   ],
   "source": [
    "11 or 10"
   ]
  },
  {
   "cell_type": "code",
   "execution_count": 22,
   "metadata": {},
   "outputs": [
    {
     "data": {
      "text/plain": [
       "1"
      ]
     },
     "execution_count": 22,
     "metadata": {},
     "output_type": "execute_result"
    }
   ],
   "source": [
    "token_to_idx[' ']"
   ]
  },
  {
   "cell_type": "code",
   "execution_count": 44,
   "metadata": {},
   "outputs": [],
   "source": [
    "def to_matrix(\n",
    "    sentences, max_len=None, pad=token_to_idx[' '], dtype='int32', batch_first=True\n",
    "    ):\n",
    "    \"\"\"Casts a list of names into rnn-digestable matrix\"\"\"\n",
    "    \n",
    "    max_len = max_len or max(map(len, sentences))\n",
    "    max_len += 1\n",
    "    names_ix = np.zeros([len(sentences), max_len], dtype) + pad\n",
    "#     names_ix[:, 0] = token_to_id['<'] # <SOS>\n",
    "\n",
    "    for i in range(len(sentences)):\n",
    "        line_ix = [token_to_idx[c] for c in sentences[i]]\n",
    "        names_ix[i, :len(line_ix)] = line_ix\n",
    "#         names_ix[i, len(line_ix)] = token_to_idx['>'] # <EOS>\n",
    "\n",
    "        \n",
    "    if not batch_first: # convert [batch, time] into [time, batch]\n",
    "        names_ix = np.transpose(names_ix)\n",
    "\n",
    "    return names_ix"
   ]
  },
  {
   "cell_type": "code",
   "execution_count": 45,
   "metadata": {},
   "outputs": [],
   "source": [
    "if not os.path.exists('sonnets.txt'):\n",
    "    !wget https://raw.githubusercontent.com/girafe-ai/ml-course/22f_basic/homeworks/lab02_deep_learning/sonnets.txt\n",
    "\n",
    "with open('sonnets.txt', 'r') as iofile:\n",
    "    text = iofile.readlines()\n",
    "    \n",
    "TEXT_START = 45\n",
    "TEXT_END = -368\n",
    "text = text[TEXT_START : TEXT_END]\n",
    "assert len(text) == 2616"
   ]
  },
  {
   "cell_type": "code",
   "execution_count": 73,
   "metadata": {},
   "outputs": [],
   "source": [
    "text_lower = [sent.lower() for sent in text]"
   ]
  },
  {
   "cell_type": "code",
   "execution_count": 48,
   "metadata": {},
   "outputs": [
    {
     "data": {
      "text/plain": [
       "['  or who is he so fond will be the tomb,\\n',\n",
       " '  of his self-love to stop posterity?\\n',\n",
       " \"  thou art thy mother's glass and she in thee\\n\",\n",
       " '  calls back the lovely april of her prime;\\n',\n",
       " '  so thou through windows of thine age shalt see,\\n']"
      ]
     },
     "execution_count": 48,
     "metadata": {},
     "output_type": "execute_result"
    }
   ],
   "source": [
    "example = text[40:45]\n",
    "example = [sent.lower() for sent in example]\n",
    "example"
   ]
  },
  {
   "cell_type": "code",
   "execution_count": 49,
   "metadata": {},
   "outputs": [
    {
     "data": {
      "text/plain": [
       "array([[ 1,  1, 26, 29,  1, 34, 19, 26,  1, 20, 30,  1, 19, 16,  1, 30,\n",
       "        26,  1, 17, 26, 25, 15,  1, 34, 20, 23, 23,  1, 13, 16,  1, 31,\n",
       "        19, 16,  1, 31, 26, 24, 13,  6,  0,  1,  1,  1,  1,  1,  1,  1,\n",
       "         1,  1,  1],\n",
       "       [ 1,  1, 26, 17,  1, 19, 20, 30,  1, 30, 16, 23, 17,  7, 23, 26,\n",
       "        33, 16,  1, 31, 26,  1, 30, 31, 26, 27,  1, 27, 26, 30, 31, 16,\n",
       "        29, 20, 31, 36, 11,  0,  1,  1,  1,  1,  1,  1,  1,  1,  1,  1,\n",
       "         1,  1,  1],\n",
       "       [ 1,  1, 31, 19, 26, 32,  1, 12, 29, 31,  1, 31, 19, 36,  1, 24,\n",
       "        26, 31, 19, 16, 29,  3, 30,  1, 18, 23, 12, 30, 30,  1, 12, 25,\n",
       "        15,  1, 30, 19, 16,  1, 20, 25,  1, 31, 19, 16, 16,  0,  1,  1,\n",
       "         1,  1,  1],\n",
       "       [ 1,  1, 14, 12, 23, 23, 30,  1, 13, 12, 14, 22,  1, 31, 19, 16,\n",
       "         1, 23, 26, 33, 16, 23, 36,  1, 12, 27, 29, 20, 23,  1, 26, 17,\n",
       "         1, 19, 16, 29,  1, 27, 29, 20, 24, 16, 10,  0,  1,  1,  1,  1,\n",
       "         1,  1,  1],\n",
       "       [ 1,  1, 30, 26,  1, 31, 19, 26, 32,  1, 31, 19, 29, 26, 32, 18,\n",
       "        19,  1, 34, 20, 25, 15, 26, 34, 30,  1, 26, 17,  1, 31, 19, 20,\n",
       "        25, 16,  1, 12, 18, 16,  1, 30, 19, 12, 23, 31,  1, 30, 16, 16,\n",
       "         6,  0,  1]], dtype=int32)"
      ]
     },
     "execution_count": 49,
     "metadata": {},
     "output_type": "execute_result"
    }
   ],
   "source": [
    "to_matrix(example)"
   ]
  },
  {
   "cell_type": "code",
   "execution_count": 53,
   "metadata": {},
   "outputs": [
    {
     "data": {
      "text/plain": [
       "' '"
      ]
     },
     "execution_count": 53,
     "metadata": {},
     "output_type": "execute_result"
    }
   ],
   "source": [
    "idx_to_token[1]"
   ]
  },
  {
   "cell_type": "markdown",
   "metadata": {},
   "source": [
    "*Comment: in this task we have only 38 different tokens, so let's use one-hot encoding.*"
   ]
  },
  {
   "cell_type": "markdown",
   "metadata": {},
   "source": [
    "### Building the model"
   ]
  },
  {
   "cell_type": "markdown",
   "metadata": {},
   "source": [
    "Now we want to build and train recurrent neural net which would be able to something similar to Shakespeare's poetry.\n",
    "\n",
    "Let's use vanilla RNN, similar to the one created during the lesson."
   ]
  },
  {
   "cell_type": "code",
   "execution_count": 2,
   "metadata": {
    "collapsed": true
   },
   "outputs": [],
   "source": [
    "# Your code here"
   ]
  },
  {
   "cell_type": "code",
   "execution_count": 55,
   "metadata": {},
   "outputs": [],
   "source": [
    "import torch\n",
    "from torch import nn"
   ]
  },
  {
   "cell_type": "code",
   "execution_count": 203,
   "metadata": {},
   "outputs": [],
   "source": [
    "class CharRNNCell(nn.Module):\n",
    "    \"\"\"\n",
    "    Implement the scheme above as torch module\n",
    "    \"\"\"\n",
    "    def __init__(self, num_tokens=len(tokens), embedding_size=18, rnn_num_units=64):\n",
    "        super(self.__class__,self).__init__()\n",
    "        self.num_units = rnn_num_units\n",
    "        \n",
    "        self.embedding = nn.Embedding(num_tokens, embedding_size)\n",
    "        self.rnn_update = nn.Linear(embedding_size + rnn_num_units, rnn_num_units)\n",
    "        self.rnn_to_logits = nn.Linear(rnn_num_units, num_tokens)\n",
    "        \n",
    "    def forward(self, x, h_prev):\n",
    "        \"\"\"\n",
    "        This method computes h_next(x, h_prev) and log P(x_next | h_next)\n",
    "        We'll call it repeatedly to produce the whole sequence.\n",
    "        \n",
    "        :param x: batch of character ids, containing vector of int64\n",
    "        :param h_prev: previous rnn hidden states, containing matrix [batch, rnn_num_units] of float32\n",
    "        \"\"\"\n",
    "        # get vector embedding of x\n",
    "        x_emb = self.embedding(x)\n",
    "        print(f\"x_emb shape = {x_emb.shape}\")\n",
    "#         print(f\"h_prev shape = {h_prev.shape}\")\n",
    "        \n",
    "        # compute next hidden state using self.rnn_update\n",
    "        # hint: use torch.cat(..., dim=...) for concatenation\n",
    "        x_and_h = torch.cat([x_emb, h_prev], dim=-1) #YOUR CODE HERE\n",
    "        h_next = self.rnn_update(x_and_h)\n",
    "        \n",
    "        h_next = torch.tanh(h_next) #YOUR CODE HERE\n",
    "        \n",
    "        assert h_next.size() == h_prev.size()\n",
    "        \n",
    "        #compute logits for next character probs\n",
    "        logits = self.rnn_to_logits(h_next) #YOUR CODE\n",
    "        \n",
    "        return h_next, logits\n",
    "    \n",
    "    def initial_state(self, batch_size):\n",
    "        \"\"\" return rnn state before it processes first input (aka h0) \"\"\"\n",
    "        return torch.zeros(batch_size, self.num_units, requires_grad=True)"
   ]
  },
  {
   "cell_type": "code",
   "execution_count": 205,
   "metadata": {},
   "outputs": [],
   "source": [
    "char_rnn = CharRNNCell()"
   ]
  },
  {
   "cell_type": "code",
   "execution_count": 143,
   "metadata": {},
   "outputs": [],
   "source": [
    "def rnn_loop(char_rnn, batch_ix):\n",
    "    \"\"\"\n",
    "    Computes log P(next_character) for all time-steps in names_ix\n",
    "    :param names_ix: an int32 matrix of shape [batch, time], output of to_matrix(names)\n",
    "    \"\"\"\n",
    "    batch_size, max_length = batch_ix.size()\n",
    "    hid_state = char_rnn.initial_state(batch_size)\n",
    "    logits = []\n",
    "\n",
    "    for x_t in batch_ix.transpose(0,1):\n",
    "        hid_state, logits_next = char_rnn(x_t, hid_state)  # <-- here we call your one-step code\n",
    "        logits.append(logits_next)\n",
    "        \n",
    "    return torch.stack(logits, dim=1)"
   ]
  },
  {
   "cell_type": "code",
   "execution_count": 62,
   "metadata": {},
   "outputs": [
    {
     "data": {
      "text/plain": [
       "38"
      ]
     },
     "execution_count": 62,
     "metadata": {},
     "output_type": "execute_result"
    }
   ],
   "source": [
    "num_tokens = len(tokens)\n",
    "num_tokens"
   ]
  },
  {
   "cell_type": "code",
   "execution_count": 206,
   "metadata": {},
   "outputs": [
    {
     "name": "stdout",
     "output_type": "stream",
     "text": [
      "x_emb shape = torch.Size([5, 18])\n",
      "x_emb shape = torch.Size([5, 18])\n",
      "x_emb shape = torch.Size([5, 18])\n",
      "x_emb shape = torch.Size([5, 18])\n",
      "x_emb shape = torch.Size([5, 18])\n",
      "x_emb shape = torch.Size([5, 18])\n",
      "x_emb shape = torch.Size([5, 18])\n",
      "x_emb shape = torch.Size([5, 18])\n",
      "x_emb shape = torch.Size([5, 18])\n",
      "x_emb shape = torch.Size([5, 18])\n",
      "x_emb shape = torch.Size([5, 18])\n",
      "x_emb shape = torch.Size([5, 18])\n",
      "x_emb shape = torch.Size([5, 18])\n",
      "x_emb shape = torch.Size([5, 18])\n",
      "x_emb shape = torch.Size([5, 18])\n",
      "x_emb shape = torch.Size([5, 18])\n",
      "x_emb shape = torch.Size([5, 18])\n",
      "x_emb shape = torch.Size([5, 18])\n",
      "x_emb shape = torch.Size([5, 18])\n",
      "x_emb shape = torch.Size([5, 18])\n",
      "x_emb shape = torch.Size([5, 18])\n",
      "x_emb shape = torch.Size([5, 18])\n",
      "x_emb shape = torch.Size([5, 18])\n",
      "x_emb shape = torch.Size([5, 18])\n",
      "x_emb shape = torch.Size([5, 18])\n",
      "x_emb shape = torch.Size([5, 18])\n",
      "x_emb shape = torch.Size([5, 18])\n",
      "x_emb shape = torch.Size([5, 18])\n",
      "x_emb shape = torch.Size([5, 18])\n",
      "x_emb shape = torch.Size([5, 18])\n",
      "x_emb shape = torch.Size([5, 18])\n",
      "x_emb shape = torch.Size([5, 18])\n",
      "x_emb shape = torch.Size([5, 18])\n",
      "x_emb shape = torch.Size([5, 18])\n",
      "x_emb shape = torch.Size([5, 18])\n",
      "x_emb shape = torch.Size([5, 18])\n",
      "x_emb shape = torch.Size([5, 18])\n",
      "x_emb shape = torch.Size([5, 18])\n",
      "x_emb shape = torch.Size([5, 18])\n",
      "x_emb shape = torch.Size([5, 18])\n",
      "x_emb shape = torch.Size([5, 18])\n",
      "x_emb shape = torch.Size([5, 18])\n",
      "x_emb shape = torch.Size([5, 18])\n",
      "x_emb shape = torch.Size([5, 18])\n",
      "x_emb shape = torch.Size([5, 18])\n",
      "x_emb shape = torch.Size([5, 18])\n",
      "x_emb shape = torch.Size([5, 18])\n",
      "x_emb shape = torch.Size([5, 18])\n",
      "x_emb shape = torch.Size([5, 18])\n",
      "x_emb shape = torch.Size([5, 18])\n",
      "x_emb shape = torch.Size([5, 18])\n"
     ]
    }
   ],
   "source": [
    "batch_ix = to_matrix(example)\n",
    "batch_ix = torch.tensor(batch_ix, dtype=torch.int64)\n",
    "\n",
    "logit_seq = rnn_loop(char_rnn, batch_ix)\n",
    "\n",
    "# assert torch.max(logp_seq).data.numpy() <= 0\n",
    "# assert tuple(logp_seq.size()) ==  batch_ix.shape + (num_tokens,)"
   ]
  },
  {
   "cell_type": "code",
   "execution_count": 61,
   "metadata": {},
   "outputs": [
    {
     "data": {
      "text/plain": [
       "tensor([[[ 1.3816e-01, -3.1751e-01, -1.7966e-01,  ..., -1.3058e-01,\n",
       "          -2.8276e-02, -6.8376e-03],\n",
       "         [ 2.1756e-01, -3.2599e-01, -2.7559e-01,  ..., -9.1333e-03,\n",
       "          -5.9565e-02, -2.3009e-01],\n",
       "         [-1.1051e-02, -2.0813e-01, -1.7992e-01,  ...,  1.5312e-01,\n",
       "          -5.5760e-02,  5.4760e-02],\n",
       "         ...,\n",
       "         [ 1.9709e-01, -3.6033e-01, -2.8863e-01,  ...,  5.2431e-02,\n",
       "          -7.0566e-02, -2.1463e-01],\n",
       "         [ 1.9599e-01, -3.6018e-01, -2.8960e-01,  ...,  5.2870e-02,\n",
       "          -7.0989e-02, -2.1537e-01],\n",
       "         [ 1.9573e-01, -3.6032e-01, -2.8970e-01,  ...,  5.2995e-02,\n",
       "          -7.0770e-02, -2.1543e-01]],\n",
       "\n",
       "        [[ 1.3816e-01, -3.1751e-01, -1.7966e-01,  ..., -1.3058e-01,\n",
       "          -2.8276e-02, -6.8376e-03],\n",
       "         [ 2.1756e-01, -3.2599e-01, -2.7559e-01,  ..., -9.1333e-03,\n",
       "          -5.9565e-02, -2.3009e-01],\n",
       "         [-1.1051e-02, -2.0813e-01, -1.7992e-01,  ...,  1.5312e-01,\n",
       "          -5.5760e-02,  5.4760e-02],\n",
       "         ...,\n",
       "         [ 1.9584e-01, -3.6025e-01, -2.8966e-01,  ...,  5.2919e-02,\n",
       "          -7.0725e-02, -2.1548e-01],\n",
       "         [ 1.9580e-01, -3.6023e-01, -2.8963e-01,  ...,  5.2879e-02,\n",
       "          -7.0695e-02, -2.1546e-01],\n",
       "         [ 1.9577e-01, -3.6022e-01, -2.8966e-01,  ...,  5.2888e-02,\n",
       "          -7.0728e-02, -2.1549e-01]],\n",
       "\n",
       "        [[ 1.3816e-01, -3.1751e-01, -1.7966e-01,  ..., -1.3058e-01,\n",
       "          -2.8276e-02, -6.8376e-03],\n",
       "         [ 2.1756e-01, -3.2599e-01, -2.7559e-01,  ..., -9.1333e-03,\n",
       "          -5.9565e-02, -2.3009e-01],\n",
       "         [ 3.8623e-02, -1.2540e-02, -2.4306e-01,  ...,  1.2469e-01,\n",
       "           1.2976e-01, -2.0334e-01],\n",
       "         ...,\n",
       "         [ 2.5148e-01, -3.2240e-01, -2.7780e-01,  ...,  4.2444e-02,\n",
       "          -9.8919e-02, -2.1478e-01],\n",
       "         [ 1.9598e-01, -3.5584e-01, -2.6843e-01,  ...,  5.4493e-02,\n",
       "          -7.2505e-02, -1.9369e-01],\n",
       "         [ 2.0160e-01, -3.5439e-01, -2.8589e-01,  ...,  5.3721e-02,\n",
       "          -7.9382e-02, -2.2008e-01]],\n",
       "\n",
       "        [[ 1.3816e-01, -3.1751e-01, -1.7966e-01,  ..., -1.3058e-01,\n",
       "          -2.8276e-02, -6.8376e-03],\n",
       "         [ 2.1756e-01, -3.2599e-01, -2.7559e-01,  ..., -9.1333e-03,\n",
       "          -5.9565e-02, -2.3009e-01],\n",
       "         [ 1.4554e-01,  4.0806e-02, -4.1500e-01,  ...,  1.1905e-01,\n",
       "          -1.5938e-01, -2.6512e-01],\n",
       "         ...,\n",
       "         [ 2.0255e-01, -3.5531e-01, -2.8679e-01,  ...,  5.3948e-02,\n",
       "          -7.9441e-02, -2.2032e-01],\n",
       "         [ 1.9749e-01, -3.6036e-01, -2.8593e-01,  ...,  5.5117e-02,\n",
       "          -7.0662e-02, -2.1213e-01],\n",
       "         [ 1.9853e-01, -3.6037e-01, -2.8894e-01,  ...,  5.3001e-02,\n",
       "          -7.1536e-02, -2.1532e-01]],\n",
       "\n",
       "        [[ 1.3816e-01, -3.1751e-01, -1.7966e-01,  ..., -1.3058e-01,\n",
       "          -2.8276e-02, -6.8376e-03],\n",
       "         [ 2.1756e-01, -3.2599e-01, -2.7559e-01,  ..., -9.1333e-03,\n",
       "          -5.9565e-02, -2.3009e-01],\n",
       "         [ 1.1115e-01, -6.9782e-02, -1.9958e-01,  ...,  1.5572e-01,\n",
       "          -1.9062e-01, -1.4523e-01],\n",
       "         ...,\n",
       "         [-2.4462e-01,  2.1795e-01,  4.3354e-02,  ...,  1.3119e-01,\n",
       "           6.3768e-02,  1.3880e-01],\n",
       "         [-1.1403e-01,  2.8664e-01, -5.8834e-02,  ..., -1.5219e-01,\n",
       "          -8.2807e-02, -1.1317e-01],\n",
       "         [ 1.1258e-01, -2.5885e-01, -9.6567e-02,  ..., -1.3472e-01,\n",
       "          -3.4071e-04,  1.1871e-01]]], grad_fn=<StackBackward0>)"
      ]
     },
     "execution_count": 61,
     "metadata": {},
     "output_type": "execute_result"
    }
   ],
   "source": [
    "logit_seq"
   ]
  },
  {
   "cell_type": "code",
   "execution_count": 63,
   "metadata": {},
   "outputs": [
    {
     "data": {
      "text/plain": [
       "torch.Size([5, 51, 38])"
      ]
     },
     "execution_count": 63,
     "metadata": {},
     "output_type": "execute_result"
    }
   ],
   "source": [
    "logit_seq.shape"
   ]
  },
  {
   "cell_type": "code",
   "execution_count": null,
   "metadata": {},
   "outputs": [],
   "source": [
    "logit_seq"
   ]
  },
  {
   "cell_type": "code",
   "execution_count": 64,
   "metadata": {},
   "outputs": [],
   "source": [
    "predictions_logits = logit_seq[:, :-1]\n",
    "actual_next_tokens = batch_ix[:, 1:]"
   ]
  },
  {
   "cell_type": "code",
   "execution_count": 67,
   "metadata": {},
   "outputs": [],
   "source": [
    "loss_func = nn.CrossEntropyLoss()\n",
    "loss2 = loss_func(\n",
    "    predictions_logits.reshape((-1, num_tokens)),\n",
    "    actual_next_tokens.reshape(-1)\n",
    "    )"
   ]
  },
  {
   "cell_type": "code",
   "execution_count": 68,
   "metadata": {},
   "outputs": [
    {
     "data": {
      "text/plain": [
       "tensor(3.6949, grad_fn=<NllLossBackward0>)"
      ]
     },
     "execution_count": 68,
     "metadata": {},
     "output_type": "execute_result"
    }
   ],
   "source": [
    "loss2"
   ]
  },
  {
   "cell_type": "code",
   "execution_count": 147,
   "metadata": {},
   "outputs": [],
   "source": [
    "from IPython.display import clear_output\n",
    "from random import sample\n",
    "\n",
    "char_rnn = CharRNNCell()\n",
    "opt = torch.optim.Adam(char_rnn.parameters())\n",
    "loss_func = nn.CrossEntropyLoss()\n",
    "\n",
    "history = []"
   ]
  },
  {
   "cell_type": "code",
   "execution_count": 76,
   "metadata": {},
   "outputs": [],
   "source": [
    "lengths = map(len, text_lower)"
   ]
  },
  {
   "cell_type": "code",
   "execution_count": 78,
   "metadata": {},
   "outputs": [
    {
     "data": {
      "text/plain": [
       "63"
      ]
     },
     "execution_count": 78,
     "metadata": {},
     "output_type": "execute_result"
    }
   ],
   "source": [
    "max(lengths)"
   ]
  },
  {
   "cell_type": "code",
   "execution_count": 80,
   "metadata": {},
   "outputs": [],
   "source": [
    "import matplotlib.pyplot as plt"
   ]
  },
  {
   "cell_type": "code",
   "execution_count": 125,
   "metadata": {},
   "outputs": [
    {
     "name": "stdout",
     "output_type": "stream",
     "text": [
      "[\"    to eat the world's due, by the grave and thee.\\n\"]\n"
     ]
    }
   ],
   "source": [
    "print(sample(text_lower, 1))"
   ]
  },
  {
   "cell_type": "code",
   "execution_count": 148,
   "metadata": {},
   "outputs": [
    {
     "data": {
      "image/png": "[encoded data removed]",
      "text/plain": [
       "<Figure size 640x480 with 1 Axes>"
      ]
     },
     "metadata": {},
     "output_type": "display_data"
    }
   ],
   "source": [
    "MAX_LENGTH = 63\n",
    "\n",
    "for i in range(1000):\n",
    "    batch_ix = to_matrix(sample(text_lower, 32), max_len=MAX_LENGTH)\n",
    "#     print(batch_ix.shape)\n",
    "#     print(sample)\n",
    "    batch_ix = torch.tensor(batch_ix, dtype=torch.int64)\n",
    "    \n",
    "    logits_seq = rnn_loop(char_rnn, batch_ix)\n",
    "    \n",
    "    # compute loss\n",
    "    #<YOUR CODE>\n",
    "    predictions_logits = logits_seq[:, :-1]\n",
    "    actual_next_tokens = batch_ix[:, 1:]\n",
    "\n",
    "    loss = loss_func(\n",
    "    predictions_logits.reshape((-1, num_tokens)),\n",
    "    actual_next_tokens.reshape(-1)\n",
    "    )\n",
    "    loss.backward()\n",
    "    opt.step()\n",
    "    \n",
    "    opt.zero_grad()\n",
    "    \n",
    "    history.append(loss.data.numpy())\n",
    "    if (i+1)%100==0:\n",
    "        clear_output(True)\n",
    "        plt.plot(history,label='loss')\n",
    "        plt.legend()\n",
    "        plt.show()\n",
    "\n",
    "assert np.mean(history[:10]) > np.mean(history[-10:]), \"RNN didn't converge.\""
   ]
  },
  {
   "cell_type": "markdown",
   "metadata": {},
   "source": [
    "Plot the loss function (axis X: number of epochs, axis Y: loss function)."
   ]
  },
  {
   "cell_type": "code",
   "execution_count": 3,
   "metadata": {
    "collapsed": true
   },
   "outputs": [],
   "source": [
    "# Your plot code here"
   ]
  },
  {
   "cell_type": "code",
   "execution_count": 136,
   "metadata": {},
   "outputs": [],
   "source": [
    "import torch.nn.functional as F"
   ]
  },
  {
   "cell_type": "code",
   "execution_count": 149,
   "metadata": {},
   "outputs": [],
   "source": [
    "def generate_sample(char_rnn, seed_phrase=' hello', max_length=MAX_LENGTH, temperature=1.0):\n",
    "    '''\n",
    "    ### Disclaimer: this is an example function for text generation.\n",
    "    ### You can either adapt it in your code or create your own function\n",
    "    \n",
    "    The function generates text given a phrase of length at least SEQ_LENGTH.\n",
    "    :param seed_phrase: prefix characters. The RNN is asked to continue the phrase\n",
    "    :param max_length: maximum output length, including seed_phrase\n",
    "    :param temperature: coefficient for sampling.  higher temperature produces more chaotic outputs, \n",
    "        smaller temperature converges to the single most likely output.\n",
    "        \n",
    "    Be careful with the model output. This model waits logits (not probabilities/log-probabilities)\n",
    "    of the next symbol.\n",
    "    '''\n",
    "    \n",
    "    x_sequence = to_matrix([seed_phrase], max_len=63)\n",
    "    x_sequence = torch.tensor(x_sequence, dtype=torch.int64)\n",
    "    hid_state = char_rnn.initial_state(batch_size=1)\n",
    "    \n",
    "    #feed the seed phrase, if any\n",
    "    for i in range(len(seed_phrase) - 1):\n",
    "#         print(x_sequence[:, -1].shape, hid_state.shape)\n",
    "        hid_state, out = char_rnn(x_sequence[:, i], hid_state)\n",
    "#         print(x_sequence[:, -1].shape, hid_state.shape)\n",
    "    \n",
    "    #start generating\n",
    "    for _ in range(max_length - len(seed_phrase)):\n",
    "#         print(x_sequence.shape, x_sequence, hid_state.shape)\n",
    "        hid_state, out = char_rnn(x_sequence[:, -1], hid_state)\n",
    "        # Be really careful here with the model output\n",
    "        p_next = F.softmax(out / temperature, dim=-1).data.numpy()[0]\n",
    "        \n",
    "        # sample next token and push it back into x_sequence\n",
    "#         print(p_next.shape, len(tokens))\n",
    "        next_ix = np.random.choice(len(tokens), p=p_next)\n",
    "        next_ix = torch.tensor([[next_ix]], dtype=torch.int64)\n",
    "#         print(x_sequence.shape, next_ix.shape)\n",
    "        x_sequence = torch.cat([x_sequence, next_ix], dim=1)\n",
    "        \n",
    "    return ''.join([tokens[ix] for ix in x_sequence.data.numpy()[0]])"
   ]
  },
  {
   "cell_type": "code",
   "execution_count": 181,
   "metadata": {},
   "outputs": [
    {
     "data": {
      "text/plain": [
       "' i love reinforcement learning                                  and bor in renor as peonme,\\n                                                                                                                                                                                                                                                                                                                                                                                                                                                                                                                                                                                                                                                                                                                                                                                                                                                                                                                                                                                                                                                                                                                                                                                                                                                                                                                                                                                                                                                                                                                                                                                                                                                                                                                                                                                                                                                                                                                                                                                                                      '"
      ]
     },
     "execution_count": 181,
     "metadata": {},
     "output_type": "execute_result"
    }
   ],
   "source": [
    "generate_sample(char_rnn, seed_phrase=' i love reinforcement learning', temperature = 1, max_length=2000)"
   ]
  },
  {
   "cell_type": "code",
   "execution_count": 40,
   "metadata": {},
   "outputs": [
    {
     "name": "stdout",
     "output_type": "stream",
     "text": [
      "hide my will in thine?\n",
      "  shall will in of the simend that in my sime the seave the seave the sorll the soren the sange the seall seares and and the fart the wirl the seall the songh whing that thou hall will thoun the soond beare the with that sare the simest me the fart the wirl the songre the with thy seart so for shat so for do the dost the sing the sing the sing the soond canding the sack and the farling the wirl of sore sich and that with the seare the seall so fort the with the past the wirl the simen the wirl the sores the sare\n"
     ]
    }
   ],
   "source": [
    "# An example of generated text.\n",
    "# print(generate_text(length=500, temperature=0.2))"
   ]
  },
  {
   "cell_type": "markdown",
   "metadata": {},
   "source": [
    "### More poetic model\n",
    "\n",
    "Let's use LSTM instead of vanilla RNN and compare the results."
   ]
  },
  {
   "cell_type": "markdown",
   "metadata": {},
   "source": [
    "Plot the loss function of the number of epochs. Does the final loss become better?"
   ]
  },
  {
   "cell_type": "code",
   "execution_count": 46,
   "metadata": {
    "collapsed": true
   },
   "outputs": [],
   "source": [
    "# Your beautiful code here"
   ]
  },
  {
   "cell_type": "code",
   "execution_count": 182,
   "metadata": {},
   "outputs": [],
   "source": [
    "from torch.nn import LSTM"
   ]
  },
  {
   "cell_type": "code",
   "execution_count": 221,
   "metadata": {},
   "outputs": [
    {
     "data": {
      "text/plain": [
       "38"
      ]
     },
     "execution_count": 221,
     "metadata": {},
     "output_type": "execute_result"
    }
   ],
   "source": [
    "len(tokens)"
   ]
  },
  {
   "cell_type": "code",
   "execution_count": 301,
   "metadata": {},
   "outputs": [],
   "source": [
    "class CharLSTMCell(nn.Module):\n",
    "    def __init__(self, num_tokens=38, embedding_size=18, hidden_size=64):\n",
    "        super(self.__class__, self).__init__()\n",
    "        self.hidden_size = hidden_size\n",
    "        self.embedding = nn.Embedding(num_tokens, embedding_size)\n",
    "        self.lstm = LSTM(embedding_size, self.hidden_size, batch_first=True)\n",
    "        self.lstm_to_logits = nn.Linear(self.hidden_size, num_tokens)\n",
    "        \n",
    "    def forward(self, x, h_c_prev):\n",
    "        x_emb = self.embedding(x)\n",
    "#         print(f\"x_emb shape = {x_emb.shape}\")\n",
    "        output, (hn, cn) = self.lstm(x_emb, h_c_prev)\n",
    "        logits = self.lstm_to_logits(output)\n",
    "        return logits, (hn, cn)\n",
    "    \n",
    "    def initial_state(self, batch_size):\n",
    "        return torch.zeros(batch_size, self.hidden_size, requires_grad=True).unsqueeze(0), torch.zeros(batch_size, self.hidden_size, requires_grad=True).unsqueeze(0)"
   ]
  },
  {
   "cell_type": "code",
   "execution_count": 302,
   "metadata": {},
   "outputs": [],
   "source": [
    "def lstm_loop(lstm_cell, batch_ix):\n",
    "    batch_size, max_length = batch_ix.size()\n",
    "    hn, cn = lstm_cell.initial_state(batch_size)    \n",
    "\n",
    "    logits, (hn, cn) = lstm_cell(batch_ix, (hn, cn))\n",
    "\n",
    "        \n",
    "    return logits"
   ]
  },
  {
   "cell_type": "code",
   "execution_count": 262,
   "metadata": {},
   "outputs": [
    {
     "name": "stdout",
     "output_type": "stream",
     "text": [
      "torch.Size([5, 51])\n",
      "torch.Size([5, 51])\n",
      "torch.Size([5, 51, 38])\n"
     ]
    }
   ],
   "source": [
    "batch_ix = to_matrix(example)\n",
    "batch_ix = torch.tensor(batch_ix, dtype=torch.int64)\n",
    "print(batch_ix.size())\n",
    "print(batch_ix.shape)\n",
    "lstm_cell = CharLSTMCell()\n",
    "logit_seq = lstm_loop(lstm_cell, batch_ix)\n",
    "print(logit_seq.shape)"
   ]
  },
  {
   "cell_type": "code",
   "execution_count": 263,
   "metadata": {},
   "outputs": [],
   "source": [
    "predictions_logits = logit_seq[:, :-1]\n",
    "actual_next_tokens = batch_ix[:, 1:]"
   ]
  },
  {
   "cell_type": "code",
   "execution_count": 257,
   "metadata": {},
   "outputs": [],
   "source": [
    "loss_func = nn.CrossEntropyLoss()\n",
    "loss2 = loss_func(\n",
    "    predictions_logits.reshape((-1, num_tokens)),\n",
    "    actual_next_tokens.reshape(-1)\n",
    "    )"
   ]
  },
  {
   "cell_type": "code",
   "execution_count": 258,
   "metadata": {},
   "outputs": [
    {
     "data": {
      "text/plain": [
       "tensor(3.6540, grad_fn=<NllLossBackward0>)"
      ]
     },
     "execution_count": 258,
     "metadata": {},
     "output_type": "execute_result"
    }
   ],
   "source": [
    "loss2"
   ]
  },
  {
   "cell_type": "code",
   "execution_count": 303,
   "metadata": {},
   "outputs": [],
   "source": [
    "lstm_cell = CharLSTMCell()\n",
    "history = []\n",
    "opt = torch.optim.Adam(lstm_cell.parameters())"
   ]
  },
  {
   "cell_type": "code",
   "execution_count": 304,
   "metadata": {},
   "outputs": [
    {
     "data": {
      "image/png": "[encoded data removed]",
      "text/plain": [
       "<Figure size 640x480 with 1 Axes>"
      ]
     },
     "metadata": {},
     "output_type": "display_data"
    }
   ],
   "source": [
    "MAX_LENGTH = 63\n",
    "\n",
    "for i in range(1000):\n",
    "    batch_ix = to_matrix(sample(text_lower, 32), max_len=MAX_LENGTH)\n",
    "#     print(batch_ix.shape)\n",
    "#     print(sample)\n",
    "    batch_ix = torch.tensor(batch_ix, dtype=torch.int64)\n",
    "    \n",
    "    logits_seq = lstm_loop(lstm_cell, batch_ix)\n",
    "    \n",
    "    # compute loss\n",
    "    #<YOUR CODE>\n",
    "    predictions_logits = logits_seq[:, :-1]\n",
    "    actual_next_tokens = batch_ix[:, 1:]\n",
    "\n",
    "    loss = loss_func(\n",
    "    predictions_logits.reshape((-1, num_tokens)),\n",
    "    actual_next_tokens.reshape(-1)\n",
    "    )\n",
    "    loss.backward()\n",
    "    opt.step()\n",
    "    \n",
    "    opt.zero_grad()\n",
    "    \n",
    "    history.append(loss.data.numpy())\n",
    "    if (i+1)%100==0:\n",
    "        clear_output(True)\n",
    "        plt.plot(history,label='loss')\n",
    "        plt.legend()\n",
    "        plt.show()\n",
    "\n",
    "assert np.mean(history[:10]) > np.mean(history[-10:]), \"LSTM didn't converge.\""
   ]
  },
  {
   "cell_type": "markdown",
   "metadata": {},
   "source": [
    "Generate text using the trained net with different `temperature` parameter: `[0.1, 0.2, 0.5, 1.0, 2.0]`.\n",
    "\n",
    "Evaluate the results visually, try to interpret them."
   ]
  },
  {
   "cell_type": "code",
   "execution_count": 271,
   "metadata": {},
   "outputs": [
    {
     "data": {
      "text/plain": [
       "torch.Size([1, 1, 64])"
      ]
     },
     "execution_count": 271,
     "metadata": {},
     "output_type": "execute_result"
    }
   ],
   "source": [
    "lstm_cell.initial_state(batch_size=1)[1].shape"
   ]
  },
  {
   "cell_type": "code",
   "execution_count": 305,
   "metadata": {},
   "outputs": [],
   "source": [
    "def generate_sample(lstm_cell, seed_phrase=' hello', max_length=MAX_LENGTH, temperature=1.0):\n",
    "    '''\n",
    "    ### Disclaimer: this is an example function for text generation.\n",
    "    ### You can either adapt it in your code or create your own function\n",
    "    \n",
    "    The function generates text given a phrase of length at least SEQ_LENGTH.\n",
    "    :param seed_phrase: prefix characters. The RNN is asked to continue the phrase\n",
    "    :param max_length: maximum output length, including seed_phrase\n",
    "    :param temperature: coefficient for sampling.  higher temperature produces more chaotic outputs, \n",
    "        smaller temperature converges to the single most likely output.\n",
    "        \n",
    "    Be careful with the model output. This model waits logits (not probabilities/log-probabilities)\n",
    "    of the next symbol.\n",
    "    '''\n",
    "    \n",
    "    x_sequence = to_matrix([seed_phrase], max_len=63)\n",
    "#     print(x_sequence.shape)\n",
    "    x_sequence = torch.tensor(x_sequence, dtype=torch.int64)\n",
    "    hid_state = lstm_cell.initial_state(batch_size=1)\n",
    "#     print(x_sequence.shape)\n",
    "    #feed the seed phrase, if any\n",
    "    for i in range(len(seed_phrase) - 1):\n",
    "#         print(x_sequence[:, -1].shape, hid_state.shape)\n",
    "        logits, hid_state = lstm_cell(x_sequence[:, i].unsqueeze(0), hid_state)\n",
    "#         print(x_sequence[:, -1].shape, hid_state.shape)\n",
    "    \n",
    "    #start generating\n",
    "    for _ in range(max_length - len(seed_phrase)):\n",
    "#         print(x_sequence.shape, x_sequence, hid_state.shape)\n",
    "        logits, hid_state = lstm_cell(x_sequence[:, -1].unsqueeze(0), hid_state)\n",
    "        # Be really careful here with the model output\n",
    "        p_next = F.softmax(logits / temperature, dim=-1).data.numpy()[0]\n",
    "        \n",
    "        # sample next token and push it back into x_sequence\n",
    "#         print(p_next.shape, len(tokens))\n",
    "#         print(p_next.shape)\n",
    "        next_ix = np.random.choice(len(tokens), p=p_next.reshape(-1))\n",
    "        next_ix = torch.tensor([[next_ix]], dtype=torch.int64)\n",
    "#         print(x_sequence.shape, next_ix.shape)\n",
    "        x_sequence = torch.cat([x_sequence, next_ix], dim=1)\n",
    "        \n",
    "    return ''.join([tokens[ix] for ix in x_sequence.data.numpy()[0]])"
   ]
  },
  {
   "cell_type": "code",
   "execution_count": 335,
   "metadata": {},
   "outputs": [
    {
     "data": {
      "text/plain": [
       "\" what can i do                                                  my the wher this bate s rase lowh thite fours i this yosen my and bearr'd bore som.\\n                                                                                                                                                                                                                                                                                                                                                                                                                                                                                                                                                                                                                                                                                                                                                                                                                                                                                                                                                                                                                                                                                                                                                                                                                                                                                                                                                                                                                                                                                                                                                                                                                                                                                                                                                                                                                                                                                                                                                                              \""
      ]
     },
     "execution_count": 335,
     "metadata": {},
     "output_type": "execute_result"
    }
   ],
   "source": [
    "generate_sample(lstm_cell, seed_phrase=' what can i do', temperature = 0.7, max_length=2000)"
   ]
  },
  {
   "cell_type": "code",
   "execution_count": 47,
   "metadata": {
    "collapsed": true
   },
   "outputs": [],
   "source": [
    "# Text generation with different temperature values here"
   ]
  },
  {
   "cell_type": "markdown",
   "metadata": {},
   "source": [
    "### Saving and loading models"
   ]
  },
  {
   "cell_type": "markdown",
   "metadata": {},
   "source": [
    "Save the model to the disk, then load it and generate text. Examples are available [here](https://pytorch.org/tutorials/beginner/saving_loading_models.html])."
   ]
  },
  {
   "cell_type": "code",
   "execution_count": 4,
   "metadata": {
    "collapsed": true
   },
   "outputs": [],
   "source": [
    "# Saving and loading code here"
   ]
  },
  {
   "cell_type": "markdown",
   "metadata": {},
   "source": [
    "### References\n",
    "1. <a href='http://karpathy.github.io/2015/05/21/rnn-effectiveness/'> Andrew Karpathy blog post about RNN. </a> \n",
    "There are several examples of genration: Shakespeare texts, Latex formulas, Linux Sourse Code and children names.\n",
    "2. <a href='https://github.com/karpathy/char-rnn'> Repo with char-rnn code </a>\n",
    "3. Cool repo with PyTorch examples: [link](https://github.com/spro/practical-pytorch`)"
   ]
  }
 ],
 "metadata": {
  "anaconda-cloud": {},
  "kernelspec": {
   "display_name": "Python 3",
   "language": "python",
   "name": "python3"
  },
  "language_info": {
   "codemirror_mode": {
    "name": "ipython",
    "version": 3
   },
   "file_extension": ".py",
   "mimetype": "text/x-python",
   "name": "python",
   "nbconvert_exporter": "python",
   "pygments_lexer": "ipython3",
   "version": "3.8.10"
  }
 },
 "nbformat": 4,
 "nbformat_minor": 2
}
