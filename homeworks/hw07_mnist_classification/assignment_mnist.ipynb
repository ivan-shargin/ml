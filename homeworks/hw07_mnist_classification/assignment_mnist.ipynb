{
 "cells": [
  {
   "cell_type": "markdown",
   "metadata": {},
   "source": [
    "## Домашнее задание №7\n",
    "\n",
    "##### Автор: [Радослав Нейчев](https://www.linkedin.com/in/radoslav-neychev/), @neychev"
   ]
  },
  {
   "cell_type": "code",
   "execution_count": 1,
   "metadata": {},
   "outputs": [],
   "source": [
    "import numpy as np\n",
    "\n",
    "import torch\n",
    "from torch import nn\n",
    "from torch.nn import functional as F\n",
    "\n",
    "import torchvision\n",
    "from torchvision.datasets import MNIST\n",
    "\n",
    "from matplotlib import pyplot as plt\n",
    "from IPython.display import clear_output"
   ]
  },
  {
   "cell_type": "markdown",
   "metadata": {},
   "source": [
    "### Задача №1: \n",
    "Обратимся к классической задаче распознавания рукописных цифр. Мы будем работать с набором данных [MNIST](http://yann.lecun.com/exdb/mnist/). В данном задании воспользуемся всем датасетом целиком.\n",
    "\n",
    "__Ваша основная задача: реализовать весь пайплан обучения модели и добиться качества $\\geq 92\\%$ на тестовой выборке.__\n",
    "\n",
    "Код для обучения модели в данном задании отсутствует. Присутствует лишь несколько тестов, которые помогут вам отладить свое решение. За примером можно обратиться к ноутбуку первого занятия.\n",
    "\n",
    "Настоятельно рекомендуем написать код \"с нуля\", лишь поглядывая на готовые примеры, а не просто \"скопировать-вставить\". Это поможет вам в дальнейшем."
   ]
  },
  {
   "cell_type": "code",
   "execution_count": 7,
   "metadata": {},
   "outputs": [
    {
     "name": "stdout",
     "output_type": "stream",
     "text": [
      "torch.Size([1, 28, 28])\n"
     ]
    },
    {
     "data": {
      "image/png": "[encoded data removed]",
      "text/plain": [
       "<Figure size 640x480 with 1 Axes>"
      ]
     },
     "metadata": {},
     "output_type": "display_data"
    }
   ],
   "source": [
    "# do not change the code in the block below\n",
    "# __________start of block__________\n",
    "\n",
    "train_mnist_data = MNIST(\n",
    "    \".\", train=True, transform=torchvision.transforms.ToTensor(), download=True\n",
    ")\n",
    "test_mnist_data = MNIST(\n",
    "    \".\", train=False, transform=torchvision.transforms.ToTensor(), download=True\n",
    ")\n",
    "\n",
    "\n",
    "train_data_loader = torch.utils.data.DataLoader(\n",
    "    train_mnist_data, batch_size=32, shuffle=True, num_workers=2\n",
    ")\n",
    "\n",
    "test_data_loader = torch.utils.data.DataLoader(\n",
    "    test_mnist_data, batch_size=32, shuffle=False, num_workers=2\n",
    ")\n",
    "\n",
    "random_batch = next(iter(train_data_loader))\n",
    "_image, _label = random_batch[0][0], random_batch[1][0]\n",
    "print(_image.shape)\n",
    "plt.figure()\n",
    "plt.imshow(_image.reshape(28, 28))\n",
    "plt.title(f\"Image label: {_label}\")\n",
    "plt.show()\n",
    "# __________end of block__________"
   ]
  },
  {
   "cell_type": "markdown",
   "metadata": {},
   "source": [
    "Постройте модель ниже. Пожалуйста, не стройте переусложненную сеть, не стоит делать ее глубже четырех слоев (можно и меньше). Ваша основная задача – обучить модель и получить качество на отложенной (тестовой выборке) не менее 92% accuracy.\n",
    "\n",
    "*Комментарий: для этого достаточно линейных слоев и функций активации.*\n",
    "\n",
    "__Внимание, ваша модель должна быть представлена именно переменной `model`.__"
   ]
  },
  {
   "cell_type": "code",
   "execution_count": 6,
   "metadata": {},
   "outputs": [
    {
     "name": "stdout",
     "output_type": "stream",
     "text": [
      "Using cpu device\n"
     ]
    }
   ],
   "source": [
    "device = (\n",
    "    \"cuda\"\n",
    "    if torch.cuda.is_available()\n",
    "    else \"cpu\"\n",
    ")\n",
    "print(f\"Using {device} device\")"
   ]
  },
  {
   "cell_type": "code",
   "execution_count": 18,
   "metadata": {},
   "outputs": [
    {
     "data": {
      "text/plain": [
       "tensor([[0.3333, 0.3333, 0.3333],\n",
       "        [0.3333, 0.3333, 0.3333],\n",
       "        [0.3333, 0.3333, 0.3333],\n",
       "        [0.3333, 0.3333, 0.3333],\n",
       "        [0.3333, 0.3333, 0.3333]])"
      ]
     },
     "execution_count": 18,
     "metadata": {},
     "output_type": "execute_result"
    }
   ],
   "source": [
    "sfm = nn.Softmax(dim=1)\n",
    "x = torch.ones((5, 3))\n",
    "sfm(x)"
   ]
  },
  {
   "cell_type": "code",
   "execution_count": 19,
   "metadata": {},
   "outputs": [],
   "source": [
    "class FCNetwork(nn.Module):\n",
    "    def __init__(self):\n",
    "        super().__init__()\n",
    "        self.flatten = nn.Flatten()\n",
    "        self.linear_relu_stack = nn.Sequential(\n",
    "            nn.Linear(28*28, 256),\n",
    "            nn.ReLU(),\n",
    "            nn.Linear(256, 256),\n",
    "            nn.ReLU(),\n",
    "            nn.Linear(256, 128),\n",
    "            nn.ReLU(),\n",
    "            nn.Linear(128, 10)\n",
    "        )\n",
    "#         self.sfm = self.Softmax(dim=1)\n",
    "    \n",
    "    def forward(self, x):\n",
    "        x_f = self.flatten(x)\n",
    "        logits = self.linear_relu_stack(x_f)\n",
    "#         probas = self.sof\n",
    "        return logits"
   ]
  },
  {
   "cell_type": "code",
   "execution_count": 20,
   "metadata": {},
   "outputs": [],
   "source": [
    "# Creating model instance\n",
    "model = FCNetwork()  # your code here"
   ]
  },
  {
   "cell_type": "markdown",
   "metadata": {},
   "source": [
    "Локальные тесты для проверки вашей модели доступны ниже:"
   ]
  },
  {
   "cell_type": "code",
   "execution_count": 21,
   "metadata": {},
   "outputs": [
    {
     "name": "stdout",
     "output_type": "stream",
     "text": [
      "Everything seems fine!\n"
     ]
    }
   ],
   "source": [
    "# do not change the code in the block below\n",
    "# __________start of block__________\n",
    "assert model is not None, \"Please, use `model` variable to store your model\"\n",
    "\n",
    "try:\n",
    "    x = random_batch[0].reshape(-1, 784)\n",
    "    y = random_batch[1]\n",
    "\n",
    "    # compute outputs given inputs, both are variables\n",
    "    y_predicted = model(x)\n",
    "except Exception as e:\n",
    "    print(\"Something is wrong with the model\")\n",
    "    raise e\n",
    "\n",
    "\n",
    "assert y_predicted.shape[-1] == 10, \"Model should predict 10 logits/probas\"\n",
    "\n",
    "print(\"Everything seems fine!\")\n",
    "# __________end of block__________"
   ]
  },
  {
   "cell_type": "markdown",
   "metadata": {},
   "source": [
    "Настройте параметры модели на обучающей выборке. Рекомендуем поработать с различными оптимизаторами."
   ]
  },
  {
   "cell_type": "code",
   "execution_count": 23,
   "metadata": {},
   "outputs": [],
   "source": [
    "loss_fn = nn.CrossEntropyLoss()\n",
    "optimizer = torch.optim.Adam(model.parameters(), lr=1e-3)"
   ]
  },
  {
   "cell_type": "code",
   "execution_count": 24,
   "metadata": {},
   "outputs": [],
   "source": [
    "def train(dataloader, model, loss_fn, optimizer):\n",
    "    size = len(dataloader.dataset)\n",
    "    model.train()\n",
    "    for batch, (X, y) in enumerate(dataloader):\n",
    "        X, y = X.to(device), y.to(device)\n",
    "        \n",
    "        pred = model(X)\n",
    "        loss = loss_fn(pred, y)\n",
    "        \n",
    "        loss.backward()\n",
    "        optimizer.step()\n",
    "        optimizer.zero_grad()\n",
    "        \n",
    "        if batch % 100 == 0:\n",
    "            loss, current = loss.item(), (batch + 1) * len(X)\n",
    "            print(f\"loss: {loss:>7f} [{current:>5d}/{size:>5d}]\")"
   ]
  },
  {
   "cell_type": "code",
   "execution_count": 25,
   "metadata": {},
   "outputs": [],
   "source": [
    "def test(dataloader, model, loss_fn):\n",
    "    size = len(dataloader.dataset)\n",
    "    num_batches = len(dataloader)\n",
    "    model.eval()\n",
    "    test_loss, correct = 0, 0\n",
    "    with torch.no_grad():\n",
    "        for X, y in dataloader:\n",
    "            X, y = X.to(device), y.to(device)\n",
    "            pred = model(X)\n",
    "            test_loss += loss_fn(pred, y).item()\n",
    "            correct += (pred.argmax(1) == y).type(torch.float).sum().item()\n",
    "        test_loss /= num_batches\n",
    "        correct /= size\n",
    "        print(f\"Test Error: \\n Accuracy: {(100*correct):>0.1f}%, Avg loss:{test_loss:>8f} \\n\")"
   ]
  },
  {
   "cell_type": "code",
   "execution_count": 27,
   "metadata": {},
   "outputs": [
    {
     "name": "stdout",
     "output_type": "stream",
     "text": [
      "Epoch 1\n",
      "---------------------\n",
      "loss: 2.292557 [   32/60000]\n",
      "loss: 0.621755 [ 3232/60000]\n",
      "loss: 0.510474 [ 6432/60000]\n",
      "loss: 0.262927 [ 9632/60000]\n",
      "loss: 0.309801 [12832/60000]\n",
      "loss: 0.136081 [16032/60000]\n",
      "loss: 0.033521 [19232/60000]\n",
      "loss: 0.413048 [22432/60000]\n",
      "loss: 0.360634 [25632/60000]\n",
      "loss: 0.298716 [28832/60000]\n",
      "loss: 0.482359 [32032/60000]\n",
      "loss: 0.064129 [35232/60000]\n",
      "loss: 0.117424 [38432/60000]\n",
      "loss: 0.024481 [41632/60000]\n",
      "loss: 0.207020 [44832/60000]\n",
      "loss: 0.447086 [48032/60000]\n",
      "loss: 0.101452 [51232/60000]\n",
      "loss: 0.057341 [54432/60000]\n",
      "loss: 0.229086 [57632/60000]\n",
      "Test Error: \n",
      " Accuracy: 96.4%, Avg loss:0.116189 \n",
      "\n",
      "Epoch 2\n",
      "---------------------\n",
      "loss: 0.052052 [   32/60000]\n",
      "loss: 0.013722 [ 3232/60000]\n",
      "loss: 0.069008 [ 6432/60000]\n",
      "loss: 0.034473 [ 9632/60000]\n",
      "loss: 0.015256 [12832/60000]\n",
      "loss: 0.089099 [16032/60000]\n",
      "loss: 0.007761 [19232/60000]\n",
      "loss: 0.174310 [22432/60000]\n",
      "loss: 0.281592 [25632/60000]\n",
      "loss: 0.356272 [28832/60000]\n",
      "loss: 0.068718 [32032/60000]\n",
      "loss: 0.056515 [35232/60000]\n",
      "loss: 0.124894 [38432/60000]\n",
      "loss: 0.021863 [41632/60000]\n",
      "loss: 0.059997 [44832/60000]\n",
      "loss: 0.091928 [48032/60000]\n",
      "loss: 0.082297 [51232/60000]\n",
      "loss: 0.157792 [54432/60000]\n",
      "loss: 0.050837 [57632/60000]\n",
      "Test Error: \n",
      " Accuracy: 97.0%, Avg loss:0.097309 \n",
      "\n",
      "Epoch 3\n",
      "---------------------\n",
      "loss: 0.056671 [   32/60000]\n",
      "loss: 0.037508 [ 3232/60000]\n",
      "loss: 0.027298 [ 6432/60000]\n",
      "loss: 0.187893 [ 9632/60000]\n",
      "loss: 0.017339 [12832/60000]\n",
      "loss: 0.010185 [16032/60000]\n",
      "loss: 0.008562 [19232/60000]\n",
      "loss: 0.021256 [22432/60000]\n",
      "loss: 0.032158 [25632/60000]\n",
      "loss: 0.009227 [28832/60000]\n",
      "loss: 0.004013 [32032/60000]\n",
      "loss: 0.004186 [35232/60000]\n",
      "loss: 0.097996 [38432/60000]\n",
      "loss: 0.042453 [41632/60000]\n",
      "loss: 0.022204 [44832/60000]\n",
      "loss: 0.085865 [48032/60000]\n",
      "loss: 0.031039 [51232/60000]\n",
      "loss: 0.115731 [54432/60000]\n",
      "loss: 0.010705 [57632/60000]\n",
      "Test Error: \n",
      " Accuracy: 96.9%, Avg loss:0.108931 \n",
      "\n",
      "Epoch 4\n",
      "---------------------\n",
      "loss: 0.007809 [   32/60000]\n",
      "loss: 0.003012 [ 3232/60000]\n",
      "loss: 0.021231 [ 6432/60000]\n",
      "loss: 0.001818 [ 9632/60000]\n",
      "loss: 0.136812 [12832/60000]\n",
      "loss: 0.003229 [16032/60000]\n",
      "loss: 0.026497 [19232/60000]\n",
      "loss: 0.131756 [22432/60000]\n",
      "loss: 0.004181 [25632/60000]\n",
      "loss: 0.093017 [28832/60000]\n",
      "loss: 0.006419 [32032/60000]\n",
      "loss: 0.108073 [35232/60000]\n",
      "loss: 0.200302 [38432/60000]\n",
      "loss: 0.023981 [41632/60000]\n",
      "loss: 0.087155 [44832/60000]\n",
      "loss: 0.012041 [48032/60000]\n",
      "loss: 0.059600 [51232/60000]\n",
      "loss: 0.075261 [54432/60000]\n",
      "loss: 0.094493 [57632/60000]\n",
      "Test Error: \n",
      " Accuracy: 97.8%, Avg loss:0.076649 \n",
      "\n",
      "Epoch 5\n",
      "---------------------\n",
      "loss: 0.014996 [   32/60000]\n",
      "loss: 0.032595 [ 3232/60000]\n",
      "loss: 0.046604 [ 6432/60000]\n",
      "loss: 0.003002 [ 9632/60000]\n",
      "loss: 0.094309 [12832/60000]\n",
      "loss: 0.002878 [16032/60000]\n",
      "loss: 0.001847 [19232/60000]\n",
      "loss: 0.041915 [22432/60000]\n",
      "loss: 0.088661 [25632/60000]\n",
      "loss: 0.027025 [28832/60000]\n",
      "loss: 0.002086 [32032/60000]\n",
      "loss: 0.028056 [35232/60000]\n",
      "loss: 0.014982 [38432/60000]\n",
      "loss: 0.001293 [41632/60000]\n",
      "loss: 0.063105 [44832/60000]\n",
      "loss: 0.134791 [48032/60000]\n",
      "loss: 0.126942 [51232/60000]\n",
      "loss: 0.073871 [54432/60000]\n",
      "loss: 0.008279 [57632/60000]\n",
      "Test Error: \n",
      " Accuracy: 97.7%, Avg loss:0.080429 \n",
      "\n",
      "Epoch 6\n",
      "---------------------\n",
      "loss: 0.033531 [   32/60000]\n",
      "loss: 0.008621 [ 3232/60000]\n",
      "loss: 0.192166 [ 6432/60000]\n",
      "loss: 0.007941 [ 9632/60000]\n",
      "loss: 0.009157 [12832/60000]\n",
      "loss: 0.003981 [16032/60000]\n",
      "loss: 0.013146 [19232/60000]\n",
      "loss: 0.002442 [22432/60000]\n",
      "loss: 0.001035 [25632/60000]\n",
      "loss: 0.034418 [28832/60000]\n",
      "loss: 0.000403 [32032/60000]\n",
      "loss: 0.005564 [35232/60000]\n",
      "loss: 0.160700 [38432/60000]\n",
      "loss: 0.000794 [41632/60000]\n",
      "loss: 0.000693 [44832/60000]\n",
      "loss: 0.007470 [48032/60000]\n",
      "loss: 0.007294 [51232/60000]\n",
      "loss: 0.001432 [54432/60000]\n",
      "loss: 0.000776 [57632/60000]\n",
      "Test Error: \n",
      " Accuracy: 97.4%, Avg loss:0.097366 \n",
      "\n",
      "Epoch 7\n",
      "---------------------\n",
      "loss: 0.005673 [   32/60000]\n",
      "loss: 0.007630 [ 3232/60000]\n",
      "loss: 0.028642 [ 6432/60000]\n",
      "loss: 0.000340 [ 9632/60000]\n",
      "loss: 0.008207 [12832/60000]\n",
      "loss: 0.013585 [16032/60000]\n",
      "loss: 0.000918 [19232/60000]\n",
      "loss: 0.099074 [22432/60000]\n",
      "loss: 0.000846 [25632/60000]\n",
      "loss: 0.021219 [28832/60000]\n",
      "loss: 0.003207 [32032/60000]\n",
      "loss: 0.001528 [35232/60000]\n",
      "loss: 0.222457 [38432/60000]\n",
      "loss: 0.121425 [41632/60000]\n",
      "loss: 0.000867 [44832/60000]\n",
      "loss: 0.000684 [48032/60000]\n",
      "loss: 0.100746 [51232/60000]\n",
      "loss: 0.001104 [54432/60000]\n",
      "loss: 0.247254 [57632/60000]\n",
      "Test Error: \n",
      " Accuracy: 97.6%, Avg loss:0.090537 \n",
      "\n",
      "Epoch 8\n",
      "---------------------\n",
      "loss: 0.016790 [   32/60000]\n",
      "loss: 0.003095 [ 3232/60000]\n",
      "loss: 0.022782 [ 6432/60000]\n",
      "loss: 0.001832 [ 9632/60000]\n",
      "loss: 0.000922 [12832/60000]\n",
      "loss: 0.000286 [16032/60000]\n",
      "loss: 0.000443 [19232/60000]\n",
      "loss: 0.000615 [22432/60000]\n",
      "loss: 0.033768 [25632/60000]\n",
      "loss: 0.004632 [28832/60000]\n",
      "loss: 0.105301 [32032/60000]\n",
      "loss: 0.011625 [35232/60000]\n",
      "loss: 0.003573 [38432/60000]\n",
      "loss: 0.001240 [41632/60000]\n",
      "loss: 0.001759 [44832/60000]\n",
      "loss: 0.031272 [48032/60000]\n",
      "loss: 0.016586 [51232/60000]\n",
      "loss: 0.020505 [54432/60000]\n",
      "loss: 0.108302 [57632/60000]\n",
      "Test Error: \n",
      " Accuracy: 97.0%, Avg loss:0.131590 \n",
      "\n",
      "Epoch 9\n",
      "---------------------\n",
      "loss: 0.003903 [   32/60000]\n",
      "loss: 0.029469 [ 3232/60000]\n",
      "loss: 0.051924 [ 6432/60000]\n",
      "loss: 0.023803 [ 9632/60000]\n",
      "loss: 0.281517 [12832/60000]\n",
      "loss: 0.002391 [16032/60000]\n",
      "loss: 0.000945 [19232/60000]\n",
      "loss: 0.153595 [22432/60000]\n",
      "loss: 0.000464 [25632/60000]\n",
      "loss: 0.000737 [28832/60000]\n",
      "loss: 0.062709 [32032/60000]\n",
      "loss: 0.000321 [35232/60000]\n",
      "loss: 0.008776 [38432/60000]\n",
      "loss: 0.153849 [41632/60000]\n",
      "loss: 0.005000 [44832/60000]\n",
      "loss: 0.000104 [48032/60000]\n",
      "loss: 0.000184 [51232/60000]\n",
      "loss: 0.000789 [54432/60000]\n",
      "loss: 0.034438 [57632/60000]\n",
      "Test Error: \n",
      " Accuracy: 97.9%, Avg loss:0.090023 \n",
      "\n",
      "Epoch 10\n",
      "---------------------\n",
      "loss: 0.015849 [   32/60000]\n",
      "loss: 0.017847 [ 3232/60000]\n",
      "loss: 0.002239 [ 6432/60000]\n",
      "loss: 0.002736 [ 9632/60000]\n",
      "loss: 0.001368 [12832/60000]\n",
      "loss: 0.001121 [16032/60000]\n",
      "loss: 0.005908 [19232/60000]\n",
      "loss: 0.006827 [22432/60000]\n",
      "loss: 0.000753 [25632/60000]\n",
      "loss: 0.000537 [28832/60000]\n",
      "loss: 0.015593 [32032/60000]\n",
      "loss: 0.018315 [35232/60000]\n",
      "loss: 0.000242 [38432/60000]\n",
      "loss: 0.022566 [41632/60000]\n",
      "loss: 0.029061 [44832/60000]\n",
      "loss: 0.087456 [48032/60000]\n",
      "loss: 0.000310 [51232/60000]\n",
      "loss: 0.000896 [54432/60000]\n",
      "loss: 0.000568 [57632/60000]\n",
      "Test Error: \n",
      " Accuracy: 97.7%, Avg loss:0.097541 \n",
      "\n"
     ]
    }
   ],
   "source": [
    "epochs = 10\n",
    "for t in range(epochs):\n",
    "    print(f\"Epoch {t+1}\\n---------------------\")\n",
    "    train(train_data_loader, model, loss_fn, optimizer)\n",
    "    test(test_data_loader, model, loss_fn)"
   ]
  },
  {
   "cell_type": "markdown",
   "metadata": {},
   "source": [
    "Также, напоминаем, что в любой момент можно обратиться к замечательной [документации](https://pytorch.org/docs/stable/index.html) и [обучающим примерам](https://pytorch.org/tutorials/).  "
   ]
  },
  {
   "cell_type": "markdown",
   "metadata": {},
   "source": [
    "Оценим качество классификации:"
   ]
  },
  {
   "cell_type": "code",
   "execution_count": 28,
   "metadata": {},
   "outputs": [],
   "source": [
    "predicted_labels = []\n",
    "real_labels = []\n",
    "model.eval()\n",
    "with torch.no_grad():\n",
    "    for batch in train_data_loader:\n",
    "        y_predicted = model(batch[0].reshape(-1, 784))\n",
    "        predicted_labels.append(y_predicted.argmax(dim=1))\n",
    "        real_labels.append(batch[1])\n",
    "\n",
    "predicted_labels = torch.cat(predicted_labels)\n",
    "real_labels = torch.cat(real_labels)\n",
    "train_acc = (predicted_labels == real_labels).type(torch.FloatTensor).mean()"
   ]
  },
  {
   "cell_type": "code",
   "execution_count": 29,
   "metadata": {},
   "outputs": [
    {
     "name": "stdout",
     "output_type": "stream",
     "text": [
      "Neural network accuracy on train set: 0.99232\n"
     ]
    }
   ],
   "source": [
    "print(f\"Neural network accuracy on train set: {train_acc:3.5}\")"
   ]
  },
  {
   "cell_type": "code",
   "execution_count": 30,
   "metadata": {},
   "outputs": [],
   "source": [
    "predicted_labels = []\n",
    "real_labels = []\n",
    "model.eval()\n",
    "with torch.no_grad():\n",
    "    for batch in test_data_loader:\n",
    "        y_predicted = model(batch[0].reshape(-1, 784))\n",
    "        predicted_labels.append(y_predicted.argmax(dim=1))\n",
    "        real_labels.append(batch[1])\n",
    "\n",
    "predicted_labels = torch.cat(predicted_labels)\n",
    "real_labels = torch.cat(real_labels)\n",
    "test_acc = (predicted_labels == real_labels).type(torch.FloatTensor).mean()"
   ]
  },
  {
   "cell_type": "code",
   "execution_count": 31,
   "metadata": {},
   "outputs": [
    {
     "name": "stdout",
     "output_type": "stream",
     "text": [
      "Neural network accuracy on test set: 0.9766\n"
     ]
    }
   ],
   "source": [
    "print(f\"Neural network accuracy on test set: {test_acc:3.5}\")"
   ]
  },
  {
   "cell_type": "markdown",
   "metadata": {},
   "source": [
    "Проверка, что необходимые пороги пройдены:"
   ]
  },
  {
   "cell_type": "code",
   "execution_count": 32,
   "metadata": {},
   "outputs": [],
   "source": [
    "assert test_acc >= 0.92, \"Test accuracy is below 0.92 threshold\"\n",
    "assert (\n",
    "    train_acc >= 0.91\n",
    "), \"Train accuracy is below 0.91 while test accuracy is fine. We recommend to check your model and data flow\""
   ]
  },
  {
   "cell_type": "markdown",
   "metadata": {},
   "source": [
    "### Сдача задания\n",
    "Загрузите файл `hw11_data_dict.npy` (ссылка есть на странице с заданием) и запустите код ниже для генерации посылки."
   ]
  },
  {
   "cell_type": "code",
   "execution_count": 33,
   "metadata": {},
   "outputs": [
    {
     "ename": "AssertionError",
     "evalue": "Please, download `hw11_data_dict.npy` and place it in the working directory",
     "output_type": "error",
     "traceback": [
      "\u001b[0;31m---------------------------------------------------------------------------\u001b[0m",
      "\u001b[0;31mAssertionError\u001b[0m                            Traceback (most recent call last)",
      "Cell \u001b[0;32mIn[33], line 6\u001b[0m\n\u001b[1;32m      3\u001b[0m \u001b[38;5;28;01mimport\u001b[39;00m \u001b[38;5;21;01mos\u001b[39;00m\n\u001b[1;32m      4\u001b[0m \u001b[38;5;28;01mimport\u001b[39;00m \u001b[38;5;21;01mjson\u001b[39;00m\n\u001b[0;32m----> 6\u001b[0m \u001b[38;5;28;01massert\u001b[39;00m os\u001b[38;5;241m.\u001b[39mpath\u001b[38;5;241m.\u001b[39mexists(\n\u001b[1;32m      7\u001b[0m     \u001b[38;5;124m\"\u001b[39m\u001b[38;5;124mhw11_data_dict.npy\u001b[39m\u001b[38;5;124m\"\u001b[39m\n\u001b[1;32m      8\u001b[0m ), \u001b[38;5;124m\"\u001b[39m\u001b[38;5;124mPlease, download `hw11_data_dict.npy` and place it in the working directory\u001b[39m\u001b[38;5;124m\"\u001b[39m\n\u001b[1;32m     11\u001b[0m \u001b[38;5;28;01mdef\u001b[39;00m \u001b[38;5;21mget_predictions\u001b[39m(model, eval_data, step\u001b[38;5;241m=\u001b[39m\u001b[38;5;241m10\u001b[39m):\n\u001b[1;32m     13\u001b[0m     predicted_labels \u001b[38;5;241m=\u001b[39m []\n",
      "\u001b[0;31mAssertionError\u001b[0m: Please, download `hw11_data_dict.npy` and place it in the working directory"
     ]
    }
   ],
   "source": [
    "# do not change the code in the block below\n",
    "# __________start of block__________\n",
    "import os\n",
    "import json\n",
    "\n",
    "assert os.path.exists(\n",
    "    \"hw11_data_dict.npy\"\n",
    "), \"Please, download `hw11_data_dict.npy` and place it in the working directory\"\n",
    "\n",
    "\n",
    "def get_predictions(model, eval_data, step=10):\n",
    "\n",
    "    predicted_labels = []\n",
    "    model.eval()\n",
    "    with torch.no_grad():\n",
    "        for idx in range(0, len(eval_data), step):\n",
    "            y_predicted = model(eval_data[idx : idx + step].reshape(-1, 784))\n",
    "            predicted_labels.append(y_predicted.argmax(dim=1))\n",
    "\n",
    "    predicted_labels = torch.cat(predicted_labels).numpy()\n",
    "    predicted_labels = \",\".join([str(x) for x in list(predicted_labels)])\n",
    "    return predicted_labels\n",
    "\n",
    "\n",
    "loaded_data_dict = np.load(\"hw11_data_dict.npy\", allow_pickle=True)\n",
    "\n",
    "submission_dict = {\n",
    "    \"train\": get_predictions(\n",
    "        model, torch.FloatTensor(loaded_data_dict.item()[\"train\"])\n",
    "    ),\n",
    "    \"test\": get_predictions(model, torch.FloatTensor(loaded_data_dict.item()[\"test\"])),\n",
    "}\n",
    "\n",
    "with open(\"submission_dict_hw11.json\", \"w\") as iofile:\n",
    "    json.dump(submission_dict, iofile)\n",
    "print(\"File saved to `submission_dict_hw11.json`\")\n",
    "# __________end of block__________"
   ]
  },
  {
   "cell_type": "code",
   "execution_count": 37,
   "metadata": {},
   "outputs": [
    {
     "name": "stdout",
     "output_type": "stream",
     "text": [
      "File saved to `submission_dict_hw07.npy`\n"
     ]
    }
   ],
   "source": [
    "# do not change the code in the block below\n",
    "# __________start of block__________\n",
    "import os\n",
    "\n",
    "assert os.path.exists('hw07_data_dict.npy'), 'Please, download `hw07_data_dict.npy` and place it in the working directory'\n",
    "\n",
    "def get_predictions(model, eval_data, step=10):\n",
    "    \n",
    "    predicted_labels = []\n",
    "    model.eval()\n",
    "    with torch.no_grad():\n",
    "        for idx in range(0, len(eval_data), step):\n",
    "            y_predicted = model(eval_data[idx:idx+step].reshape(-1, 784))\n",
    "            predicted_labels.append(y_predicted.argmax(dim=1))\n",
    "    \n",
    "    predicted_labels = torch.cat(predicted_labels)\n",
    "    return predicted_labels\n",
    "\n",
    "loaded_data_dict = np.load('hw07_data_dict.npy', allow_pickle=True)\n",
    "\n",
    "submission_dict = {\n",
    "    'train': get_predictions(model, torch.FloatTensor(loaded_data_dict.item()['train'])).numpy(),\n",
    "    'test': get_predictions(model, torch.FloatTensor(loaded_data_dict.item()['test'])).numpy()\n",
    "}\n",
    "\n",
    "np.save('submission_dict_hw07.npy', submission_dict, allow_pickle=True)\n",
    "print('File saved to `submission_dict_hw07.npy`')\n",
    "# __________end of block__________"
   ]
  },
  {
   "cell_type": "markdown",
   "metadata": {},
   "source": [
    "На этом задание завершено. Поздравляем!"
   ]
  }
 ],
 "metadata": {
  "kernelspec": {
   "display_name": "Python 3",
   "language": "python",
   "name": "python3"
  },
  "language_info": {
   "codemirror_mode": {
    "name": "ipython",
    "version": 3
   },
   "file_extension": ".py",
   "mimetype": "text/x-python",
   "name": "python",
   "nbconvert_exporter": "python",
   "pygments_lexer": "ipython3",
   "version": "3.8.10"
  }
 },
 "nbformat": 4,
 "nbformat_minor": 4
}
