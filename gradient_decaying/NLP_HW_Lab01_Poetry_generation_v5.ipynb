{
 "cells": [
  {
   "cell_type": "markdown",
   "metadata": {
    "id": "1XJlBZ22pBVm"
   },
   "source": [
    "## Домашнее задание №9\n",
    "### Генерация поэзии с помощью нейронных сетей: шаг 1\n",
    "##### Автор: [Радослав Нейчев](https://www.linkedin.com/in/radoslav-neychev/), @neychev\n",
    "\n",
    "Ваша основная задача: научиться генерироват стихи с помощью простой рекуррентной нейронной сети (Vanilla RNN). В качестве корпуса текстов для обучения будет выступать роман в стихах \"Евгений Онегин\" Александра Сергеевича Пушкина."
   ]
  },
  {
   "cell_type": "code",
   "execution_count": 1,
   "metadata": {
    "id": "F2KSudjYpBVt"
   },
   "outputs": [],
   "source": [
    "# do not change the code in the block below\n",
    "# __________start of block__________\n",
    "import string\n",
    "import os\n",
    "from random import sample\n",
    "\n",
    "import numpy as np\n",
    "import torch, torch.nn as nn\n",
    "import torch.nn.functional as F\n",
    "\n",
    "from IPython.display import clear_output\n",
    "\n",
    "import matplotlib.pyplot as plt\n",
    "%matplotlib inline\n",
    "# __________end of block__________"
   ]
  },
  {
   "cell_type": "code",
   "execution_count": 2,
   "metadata": {
    "id": "FGXd_FKPpBVv"
   },
   "outputs": [
    {
     "name": "stdout",
     "output_type": "stream",
     "text": [
      "cpu device is available\n"
     ]
    }
   ],
   "source": [
    "# do not change the code in the block below\n",
    "# __________start of block__________\n",
    "device = torch.device(\"cuda\") if torch.cuda.is_available() else torch.device(\"cpu\")\n",
    "print(\"{} device is available\".format(device))\n",
    "# __________end of block__________"
   ]
  },
  {
   "cell_type": "markdown",
   "metadata": {
    "id": "MPenWOy01Ooa",
    "outputId": "a92e8e33-e009-4bd4-ac12-3b1b5e1cd3f2"
   },
   "source": [
    "#### 1. Загрузка данных."
   ]
  },
  {
   "cell_type": "code",
   "execution_count": 3,
   "metadata": {
    "id": "7TazlHYmpBVw"
   },
   "outputs": [
    {
     "name": "stdout",
     "output_type": "stream",
     "text": [
      "--2024-06-03 11:37:34--  https://raw.githubusercontent.com/neychev/small_DL_repo/master/datasets/onegin.txt\n",
      "Resolving raw.githubusercontent.com (raw.githubusercontent.com)... 185.199.111.133, 185.199.109.133, 185.199.108.133, ...\n",
      "Connecting to raw.githubusercontent.com (raw.githubusercontent.com)|185.199.111.133|:443... connected.\n",
      "HTTP request sent, awaiting response... 200 OK\n",
      "Length: 262521 (256K) [text/plain]\n",
      "Saving to: ‘onegin.txt.1’\n",
      "\n",
      "onegin.txt.1        100%[===================>] 256.37K  --.-KB/s    in 0.09s   \n",
      "\n",
      "2024-06-03 11:37:34 (2.80 MB/s) - ‘onegin.txt.1’ saved [262521/262521]\n",
      "\n"
     ]
    }
   ],
   "source": [
    "# do not change the code in the block below\n",
    "# __________start of block__________\n",
    "!wget https://raw.githubusercontent.com/neychev/small_DL_repo/master/datasets/onegin.txt\n",
    "\n",
    "with open('onegin.txt', 'r') as iofile:\n",
    "    text = iofile.readlines()\n",
    "\n",
    "text = \"\".join([x.replace('\\t\\t', '').lower() for x in text])\n",
    "# __________end of block__________"
   ]
  },
  {
   "cell_type": "markdown",
   "metadata": {
    "id": "XQYpmGfR_gJ8"
   },
   "source": [
    "#### 2. Построение словаря и предобработка текста\n",
    "В данном задании требуется построить языковую модель на уровне символов. Приведем весь текст к нижнему регистру и построим словарь из всех символов в доступном корпусе текстов. Также добавим токен `<sos>`."
   ]
  },
  {
   "cell_type": "code",
   "execution_count": 4,
   "metadata": {
    "id": "EQkbvSzLpBVx"
   },
   "outputs": [
    {
     "name": "stdout",
     "output_type": "stream",
     "text": [
      "Seems fine!\n"
     ]
    }
   ],
   "source": [
    "# do not change the code in the block below\n",
    "# __________start of block__________\n",
    "tokens = sorted(set(text.lower())) + [\"<sos>\"]\n",
    "num_tokens = len(tokens)\n",
    "\n",
    "assert num_tokens == 84, \"Check the tokenization process\"\n",
    "\n",
    "token_to_idx = {x: idx for idx, x in enumerate(tokens)}\n",
    "idx_to_token = {idx: x for idx, x in enumerate(tokens)}\n",
    "\n",
    "assert len(tokens) == len(token_to_idx), \"Mapping should be unique\"\n",
    "\n",
    "print(\"Seems fine!\")\n",
    "\n",
    "\n",
    "text_encoded = [token_to_idx[x] for x in text]\n",
    "# __________end of block__________"
   ]
  },
  {
   "cell_type": "markdown",
   "metadata": {
    "id": "Qp1YJlJRpBVy"
   },
   "source": [
    "__Ваша задача__: обучить классическую рекуррентную нейронную сеть (Vanilla RNN) предсказывать следующий символ на полученном корпусе текстов и сгенерировать последовательность длины 100 для фиксированной начальной фразы.\n",
    "\n",
    "Вы можете воспользоваться кодом с занятие №6 или же обратиться к следующим ссылкам:\n",
    "* Замечательная статья за авторством Andrej Karpathy об использовании RNN: [link](http://karpathy.github.io/2015/05/21/rnn-effectiveness/)\n",
    "* Пример char-rnn от Andrej Karpathy: [github repo](https://github.com/karpathy/char-rnn)\n",
    "* Замечательный пример генерации поэзии Шекспира: [github repo](https://github.com/spro/practical-pytorch/blob/master/char-rnn-generation/char-rnn-generation.ipynb)\n",
    "\n",
    "Данное задание является достаточно творческим. Не страшно, если поначалу оно вызывает затруднения. Последняя ссылка в списке выше может быть особенно полезна в данном случае.\n",
    "\n",
    "Далее для вашего удобства реализована функция, которая генерирует случайный батч размера `batch_size` из строк длиной `seq_length`. Вы можете использовать его при обучении модели."
   ]
  },
  {
   "cell_type": "code",
   "execution_count": 5,
   "metadata": {
    "id": "k_HU2-ZbpBVy"
   },
   "outputs": [],
   "source": [
    "# do not change the code in the block below\n",
    "# __________start of block__________\n",
    "batch_size = 256\n",
    "seq_length = 100\n",
    "start_column = np.zeros((batch_size, 1), dtype=int) + token_to_idx[\"<sos>\"]\n",
    "\n",
    "\n",
    "def generate_chunk():\n",
    "    global text_encoded, start_column, batch_size, seq_length\n",
    "\n",
    "    start_index = np.random.randint(0, len(text_encoded) - batch_size * seq_length - 1)\n",
    "    data = np.array(\n",
    "        text_encoded[start_index : start_index + batch_size * seq_length]\n",
    "    ).reshape((batch_size, -1))\n",
    "    yield np.hstack((start_column, data))\n",
    "\n",
    "\n",
    "# __________end of block__________"
   ]
  },
  {
   "cell_type": "code",
   "execution_count": 16,
   "metadata": {},
   "outputs": [
    {
     "name": "stdout",
     "output_type": "stream",
     "text": [
      "<class 'numpy.ndarray'>\n",
      "[[83]\n",
      " [83]\n",
      " [83]\n",
      " [83]\n",
      " [83]\n",
      " [83]\n",
      " [83]\n",
      " [83]\n",
      " [83]\n",
      " [83]\n",
      " [83]\n",
      " [83]\n",
      " [83]\n",
      " [83]\n",
      " [83]\n",
      " [83]\n",
      " [83]\n",
      " [83]\n",
      " [83]\n",
      " [83]\n",
      " [83]\n",
      " [83]\n",
      " [83]\n",
      " [83]\n",
      " [83]\n",
      " [83]\n",
      " [83]\n",
      " [83]\n",
      " [83]\n",
      " [83]\n",
      " [83]\n",
      " [83]\n",
      " [83]\n",
      " [83]\n",
      " [83]\n",
      " [83]\n",
      " [83]\n",
      " [83]\n",
      " [83]\n",
      " [83]\n",
      " [83]\n",
      " [83]\n",
      " [83]\n",
      " [83]\n",
      " [83]\n",
      " [83]\n",
      " [83]\n",
      " [83]\n",
      " [83]\n",
      " [83]\n",
      " [83]\n",
      " [83]\n",
      " [83]\n",
      " [83]\n",
      " [83]\n",
      " [83]\n",
      " [83]\n",
      " [83]\n",
      " [83]\n",
      " [83]\n",
      " [83]\n",
      " [83]\n",
      " [83]\n",
      " [83]\n",
      " [83]\n",
      " [83]\n",
      " [83]\n",
      " [83]\n",
      " [83]\n",
      " [83]\n",
      " [83]\n",
      " [83]\n",
      " [83]\n",
      " [83]\n",
      " [83]\n",
      " [83]\n",
      " [83]\n",
      " [83]\n",
      " [83]\n",
      " [83]\n",
      " [83]\n",
      " [83]\n",
      " [83]\n",
      " [83]\n",
      " [83]\n",
      " [83]\n",
      " [83]\n",
      " [83]\n",
      " [83]\n",
      " [83]\n",
      " [83]\n",
      " [83]\n",
      " [83]\n",
      " [83]\n",
      " [83]\n",
      " [83]\n",
      " [83]\n",
      " [83]\n",
      " [83]\n",
      " [83]\n",
      " [83]\n",
      " [83]\n",
      " [83]\n",
      " [83]\n",
      " [83]\n",
      " [83]\n",
      " [83]\n",
      " [83]\n",
      " [83]\n",
      " [83]\n",
      " [83]\n",
      " [83]\n",
      " [83]\n",
      " [83]\n",
      " [83]\n",
      " [83]\n",
      " [83]\n",
      " [83]\n",
      " [83]\n",
      " [83]\n",
      " [83]\n",
      " [83]\n",
      " [83]\n",
      " [83]\n",
      " [83]\n",
      " [83]\n",
      " [83]\n",
      " [83]\n",
      " [83]\n",
      " [83]\n",
      " [83]\n",
      " [83]\n",
      " [83]\n",
      " [83]\n",
      " [83]\n",
      " [83]\n",
      " [83]\n",
      " [83]\n",
      " [83]\n",
      " [83]\n",
      " [83]\n",
      " [83]\n",
      " [83]\n",
      " [83]\n",
      " [83]\n",
      " [83]\n",
      " [83]\n",
      " [83]\n",
      " [83]\n",
      " [83]\n",
      " [83]\n",
      " [83]\n",
      " [83]\n",
      " [83]\n",
      " [83]\n",
      " [83]\n",
      " [83]\n",
      " [83]\n",
      " [83]\n",
      " [83]\n",
      " [83]\n",
      " [83]\n",
      " [83]\n",
      " [83]\n",
      " [83]\n",
      " [83]\n",
      " [83]\n",
      " [83]\n",
      " [83]\n",
      " [83]\n",
      " [83]\n",
      " [83]\n",
      " [83]\n",
      " [83]\n",
      " [83]\n",
      " [83]\n",
      " [83]\n",
      " [83]\n",
      " [83]\n",
      " [83]\n",
      " [83]\n",
      " [83]\n",
      " [83]\n",
      " [83]\n",
      " [83]\n",
      " [83]\n",
      " [83]\n",
      " [83]\n",
      " [83]\n",
      " [83]\n",
      " [83]\n",
      " [83]\n",
      " [83]\n",
      " [83]\n",
      " [83]\n",
      " [83]\n",
      " [83]\n",
      " [83]\n",
      " [83]\n",
      " [83]\n",
      " [83]\n",
      " [83]\n",
      " [83]\n",
      " [83]\n",
      " [83]\n",
      " [83]\n",
      " [83]\n",
      " [83]\n",
      " [83]\n",
      " [83]\n",
      " [83]\n",
      " [83]\n",
      " [83]\n",
      " [83]\n",
      " [83]\n",
      " [83]\n",
      " [83]\n",
      " [83]\n",
      " [83]\n",
      " [83]\n",
      " [83]\n",
      " [83]\n",
      " [83]\n",
      " [83]\n",
      " [83]\n",
      " [83]\n",
      " [83]\n",
      " [83]\n",
      " [83]\n",
      " [83]\n",
      " [83]\n",
      " [83]\n",
      " [83]\n",
      " [83]\n",
      " [83]\n",
      " [83]\n",
      " [83]\n",
      " [83]\n",
      " [83]\n",
      " [83]\n",
      " [83]\n",
      " [83]\n",
      " [83]\n",
      " [83]\n",
      " [83]\n",
      " [83]\n",
      " [83]\n",
      " [83]\n",
      " [83]\n",
      " [83]\n",
      " [83]\n",
      " [83]\n",
      " [83]\n",
      " [83]\n",
      " [83]\n",
      " [83]]\n"
     ]
    }
   ],
   "source": [
    "print(type(start_column))\n",
    "print(start_column)"
   ]
  },
  {
   "cell_type": "markdown",
   "metadata": {
    "id": "uXlsp2E6pBVz"
   },
   "source": [
    "Пример батча:"
   ]
  },
  {
   "cell_type": "code",
   "execution_count": 7,
   "metadata": {
    "id": "g3mzQegQpBVz",
    "outputId": "b28e25df-f572-461a-f4aa-b5099a512a89"
   },
   "outputs": [
    {
     "data": {
      "text/plain": [
       "array([[83, 59,  5, ..., 45,  2,  0],\n",
       "       [83, 55, 59, ..., 58, 59, 54],\n",
       "       [83,  1, 62, ..., 50,  1, 59],\n",
       "       ...,\n",
       "       [83, 49, 59, ..., 56, 73, 55],\n",
       "       [83, 59,  1, ..., 58, 45,  5],\n",
       "       [83,  0, 47, ..., 58, 45,  1]])"
      ]
     },
     "execution_count": 7,
     "metadata": {},
     "output_type": "execute_result"
    }
   ],
   "source": [
    "next(generate_chunk())"
   ]
  },
  {
   "cell_type": "code",
   "execution_count": 8,
   "metadata": {},
   "outputs": [
    {
     "data": {
      "text/plain": [
       "(256, 101)"
      ]
     },
     "execution_count": 8,
     "metadata": {},
     "output_type": "execute_result"
    }
   ],
   "source": [
    "next(generate_chunk()).shape"
   ]
  },
  {
   "cell_type": "markdown",
   "metadata": {
    "id": "lvmHStB3pBV0"
   },
   "source": [
    "Далее вам предстоит написать код для обучения модели и генерации текста."
   ]
  },
  {
   "cell_type": "code",
   "execution_count": 9,
   "metadata": {
    "id": "HJT_gHKcpBV1"
   },
   "outputs": [],
   "source": [
    "# your beautiful experiments here"
   ]
  },
  {
   "cell_type": "code",
   "execution_count": 10,
   "metadata": {},
   "outputs": [],
   "source": [
    "import torch\n",
    "from torch.nn import RNN"
   ]
  },
  {
   "cell_type": "code",
   "execution_count": 17,
   "metadata": {},
   "outputs": [],
   "source": [
    "class RNNCell(nn.Module):\n",
    "    def __init__(self, num_tokens=84, embedding_size=18, hidden_size=64):\n",
    "        super(self.__class__, self).__init__()\n",
    "        self.hidden_size = hidden_size\n",
    "        self.embedding = nn.Embedding(num_tokens, embedding_size)\n",
    "        self.rnn = RNN(embedding_size, self.hidden_size, batch_first=True)\n",
    "        self.rnn_to_logits = nn.Linear(self.hidden_size, num_tokens)\n",
    "        \n",
    "    def forward(self, x, h_prev):\n",
    "        x_emb = self.embedding(x)\n",
    "        output, hn = self.rnn(x_emb, h_prev)\n",
    "        logits = self.rnn_to_logits(output)\n",
    "        return logits, hn\n",
    "    \n",
    "    def initial_state(self, batch_size):\n",
    "        return torch.zeros(batch_size, self.hidden_size, \n",
    "                           requires_grad=True).unsqueeze(0)"
   ]
  },
  {
   "cell_type": "code",
   "execution_count": 18,
   "metadata": {},
   "outputs": [],
   "source": [
    "def rnn_loop(rnn_cell, batch_ix):\n",
    "    batch_size, max_length = batch_ix.size()\n",
    "    hn = rnn_cell.initial_state(batch_size)    \n",
    "\n",
    "    logits, hn = rnn_cell(batch_ix, hn)\n",
    "\n",
    "        \n",
    "    return logits"
   ]
  },
  {
   "cell_type": "code",
   "execution_count": 19,
   "metadata": {},
   "outputs": [],
   "source": [
    "rnn_cell = RNNCell()\n",
    "history = []\n",
    "opt = torch.optim.Adam(rnn_cell.parameters())"
   ]
  },
  {
   "cell_type": "code",
   "execution_count": 20,
   "metadata": {},
   "outputs": [],
   "source": [
    "loss_func = torch.nn.CrossEntropyLoss()"
   ]
  },
  {
   "cell_type": "code",
   "execution_count": 21,
   "metadata": {},
   "outputs": [
    {
     "data": {
      "image/png": "[encoded data removed]",
      "text/plain": [
       "<Figure size 640x480 with 1 Axes>"
      ]
     },
     "metadata": {},
     "output_type": "display_data"
    }
   ],
   "source": [
    "for i in range(4000):\n",
    "    batch = torch.tensor(next(generate_chunk()))\n",
    "    \n",
    "    logits_seq = rnn_loop(rnn_cell, batch)\n",
    "    \n",
    "    predictions_logits = logits_seq[:, :-1]\n",
    "    actual_next_tokens = batch[:, 1:]\n",
    "    \n",
    "    loss = loss_func(\n",
    "        predictions_logits.reshape((-1, num_tokens)), \n",
    "        actual_next_tokens.reshape(-1)\n",
    "    )\n",
    "    loss.backward()\n",
    "    opt.step()\n",
    "    opt.zero_grad()\n",
    "    \n",
    "    history.append(loss.data.numpy())\n",
    "    if (i+1)%100==0:\n",
    "        clear_output(True)\n",
    "        plt.plot(history,label='loss')\n",
    "        plt.legend()\n",
    "        plt.show()\n",
    "\n",
    "assert np.mean(history[:10]) > np.mean(history[-10:]), \"RNN didn't converge.\""
   ]
  },
  {
   "cell_type": "markdown",
   "metadata": {
    "id": "pWmSPb5ppBV1"
   },
   "source": [
    "В качестве иллюстрации ниже доступен график значений функции потерь, построенный в ходе обучения авторской сети (сам код для ее обучения вам и предстоит написать)."
   ]
  },
  {
   "cell_type": "code",
   "execution_count": null,
   "metadata": {
    "id": "FKIoEMVApBV1",
    "outputId": "253e4e1e-352c-46a2-db12-a6ddc43beed6"
   },
   "outputs": [
    {
     "data": {
      "image/png": "[encoded data removed]",
      "text/plain": [
       "<Figure size 432x288 with 1 Axes>"
      ]
     },
     "metadata": {
      "needs_background": "light"
     },
     "output_type": "display_data"
    }
   ],
   "source": []
  },
  {
   "cell_type": "markdown",
   "metadata": {
    "id": "QbT-j8JapBV1"
   },
   "source": [
    "Шаблон функции `generate_sample` также доступен ниже. Вы можете как дозаполнить его, так и написать свою собственную функцию с нуля. Не забывайте, что все примеры в обучающей выборке начинались с токена `<sos>`."
   ]
  },
  {
   "cell_type": "code",
   "execution_count": 24,
   "metadata": {},
   "outputs": [
    {
     "name": "stdout",
     "output_type": "stream",
     "text": [
      "3\n"
     ]
    }
   ],
   "source": [
    "x = torch.tensor([1, 2, 3])\n",
    "print(x.size()[0])"
   ]
  },
  {
   "cell_type": "code",
   "execution_count": 36,
   "metadata": {},
   "outputs": [],
   "source": [
    "import torch.nn.functional as F"
   ]
  },
  {
   "cell_type": "code",
   "execution_count": 93,
   "metadata": {
    "id": "WDAubpp6pBV1"
   },
   "outputs": [],
   "source": [
    "def generate_sample(\n",
    "    cell, seed_phrase=None, max_length=200, temperature=1.0, device=device\n",
    "):\n",
    "    \"\"\"\n",
    "    The function generates text given a phrase of length at least SEQ_LENGTH.\n",
    "    :param seed_phrase: prefix characters. The RNN is asked to continue the phrase\n",
    "    :param max_length: maximum output length, including seed_phrase\n",
    "    :param temperature: coefficient for sampling.  higher temperature produces more chaotic outputs,\n",
    "                        smaller temperature converges to the single most likely output\n",
    "    \"\"\"\n",
    "    \n",
    "#     print(len(seed_phrase))\n",
    "    if seed_phrase is not None:\n",
    "        x_sequence = [token_to_idx[\"<sos>\"]] + [\n",
    "            token_to_idx[token] for token in seed_phrase\n",
    "        ]\n",
    "    else:\n",
    "        x_sequence = [token_to_idx[\"<sos>\"]]\n",
    "\n",
    "    x_sequence = torch.tensor([x_sequence], dtype=torch.int64).to(device)\n",
    "#     print(f'initial x_seq shape: {x_sequence.shape}')\n",
    "    \n",
    "    hid_state = cell.initial_state(batch_size=1)\n",
    "    for i in range(x_sequence.size()[0] - 1):\n",
    "        logits, hid_state = cell(x_sequence[:, i].unsqueeze(0), hid_state)\n",
    "    \n",
    "#     print(x_sequence.size())\n",
    "    for _ in range(max_length - x_sequence.size()[1] + 1):\n",
    "        logits, hid_state = cell(x_sequence[:, -1].unsqueeze(0), hid_state)\n",
    "#         print(logits.shape)\n",
    "        p_next = F.softmax(logits / temperature, dim=-1).data.numpy()[0]\n",
    "        \n",
    "#         print(p_next.shape)\n",
    "        next_ix = np.random.choice(len(tokens), p=p_next.reshape(-1))\n",
    "#         print(tokens[next_ix])\n",
    "        next_ix = torch.tensor([next_ix], dtype=torch.int64)\n",
    "        \n",
    "#         print(x_sequence.shape)\n",
    "#         print(next_ix.shape)\n",
    "        x_sequence = torch.cat([x_sequence.squeeze(0), next_ix]).unsqueeze(0)\n",
    "        \n",
    "    \n",
    "    # feed the seed phrase, if any\n",
    "\n",
    "    # your code here\n",
    "\n",
    "    return \"\".join([tokens[ix] for ix in x_sequence.cpu().data.numpy()[0]])"
   ]
  },
  {
   "cell_type": "markdown",
   "metadata": {
    "id": "ZQj6PPLqpBV2"
   },
   "source": [
    "Пример текста сгенерированного обученной моделью доступен ниже. Не страшно, что в тексте много несуществующих слов. Используемая модель очень проста: это простая классическая RNN."
   ]
  },
  {
   "cell_type": "code",
   "execution_count": 91,
   "metadata": {},
   "outputs": [],
   "source": [
    "model = rnn_cell"
   ]
  },
  {
   "cell_type": "code",
   "execution_count": 94,
   "metadata": {
    "id": "uSqwb9DlpBV2",
    "outputId": "54a7c7c5-39e7-442b-d381-18d3a510a6fd"
   },
   "outputs": [
    {
     "name": "stdout",
     "output_type": "stream",
     "text": [
      "<sos> мой дядя самых честных правильбеть своей поэт,\n",
      "човые еез\n",
      "иечаят по своей\n",
      "стулей.\n",
      "\n",
      "\n",
      "\n",
      "xx\n",
      "\n",
      "и не.\n",
      "\n",
      "\n",
      "xxxv\n",
      "\n",
      "там,\n",
      "еще нам из писаки испезнии провою.\n",
      "но красток у берне.\n",
      "а татьу тон любу можду лищесть он в столи альак и и цвет не про подняласть спросте и всталу любви и устей, завравил.\n",
      "и встрековять брасой не скупрява не времновол.\n",
      "\n",
      "\n",
      "\n",
      "xix\n",
      "\n",
      "и\n",
      "и стелой,\n",
      "ей\n",
      "отомалый зласят,\n",
      "и вздарил\n",
      "добвало верина свездов, не тавил им пуро вири отремяна\n",
      "не забома.\n",
      "здесьмо шуму; мастили соровется бардом,\n",
      "соне\n",
      "и жизних дот\n"
     ]
    }
   ],
   "source": [
    "print(\n",
    "    generate_sample(\n",
    "        model, \" мой дядя самых честных правил\", max_length=500, temperature=0.8\n",
    "    )\n",
    ")"
   ]
  },
  {
   "cell_type": "code",
   "execution_count": 95,
   "metadata": {},
   "outputs": [
    {
     "name": "stdout",
     "output_type": "stream",
     "text": [
      "<sos> мой дядя самых честных правильбу собельной;\n",
      "уван стором\n",
      "в грук на в подами пора моей,\n",
      "как согда простенный без моей\n",
      "на врали вочела образурный\n",
      "в правила онегин,\n",
      "и мне полно долженным скучно жизни ожали нет?\n",
      "\n",
      "\n",
      "\n",
      "xxxvii\n",
      "\n",
      "в «ты, полчит стором на порама постором жали не то ж пора свое и сени страстре приважа на севой волковый в рука сость ленского в старался долго ль на сердце приважа страня сердце в ней даленье,\n",
      "готорой,\n",
      "на встренила сторобы,\n",
      "и другом черела с мельбе его в него в страстный востоль,\n"
     ]
    }
   ],
   "source": [
    "print(\n",
    "    generate_sample(\n",
    "        model, \" мой дядя самых честных правил\", max_length=500, temperature=0.5\n",
    "    )\n",
    ")"
   ]
  },
  {
   "cell_type": "code",
   "execution_count": 97,
   "metadata": {},
   "outputs": [
    {
     "name": "stdout",
     "output_type": "stream",
     "text": [
      "500\n",
      " мой дядя самых честных правильмоть словавный татьяна там, на тами и все скали в тревненный, кречный нада,\n",
      "и вестей,\n",
      "вот без хоть уедельной\n",
      "и в она не время.\n",
      "он страйместь посклянских не герок поравлил сость с ней моговать с семья, простоле страк и без вословец не пред их свет в тревнить горость раздали\n",
      "и в то подвластре простенный забовало предарый правдой;\n",
      "как судьми сторожда полонья\n",
      "на пред встречала сость пестрых под слова,\n",
      "когда состела оставит он он он он не скуманий,\n",
      "местре наших мой верн\n"
     ]
    }
   ],
   "source": [
    "sample = generate_sample(\n",
    "        model, \" мой дядя самых честных правил\", max_length=500, temperature=0.5)\n",
    "print(len(sample.replace('<sos>', '')))\n",
    "print(sample.replace('<sos>', ''))"
   ]
  },
  {
   "cell_type": "markdown",
   "metadata": {
    "id": "XkPtBGvTpBV2"
   },
   "source": [
    "### Сдача задания\n",
    "Сгенерируйте десять последовательностей длиной 500, используя строку ' мой дядя самых честных правил'. Температуру для генерации выберите самостоятельно на основании визуального качества генериуремого текста. Не забудьте удалить все технические токены в случае их наличия.\n",
    "\n",
    "Сгенерированную последовательность сохрание в переменную `generated_phrase` и сдайте сгенерированный ниже файл в контест."
   ]
  },
  {
   "cell_type": "code",
   "execution_count": 98,
   "metadata": {
    "id": "nkvHfU5cpBV2"
   },
   "outputs": [],
   "source": [
    "seed_phrase = \" мой дядя самых честных правил\""
   ]
  },
  {
   "cell_type": "code",
   "execution_count": null,
   "metadata": {
    "id": "SaROYji8pBV3"
   },
   "outputs": [],
   "source": [
    "generated_phrases = # your code here\n",
    "\n",
    "# For example:\n",
    "\n",
    "# generated_phrases = [\n",
    "#     generate_sample(\n",
    "#         model,\n",
    "#         ' мой дядя самых честных правил',\n",
    "#         max_length=500,\n",
    "#         temperature=1.\n",
    "#     ).replace('<sos>', '')\n",
    "#     for _ in range(10)\n",
    "# ]"
   ]
  },
  {
   "cell_type": "code",
   "execution_count": 99,
   "metadata": {},
   "outputs": [],
   "source": [
    "generated_phrases = [\n",
    "    generate_sample(\n",
    "        model,\n",
    "        ' мой дядя самых честных правил',\n",
    "        max_length=500,\n",
    "        temperature=0.8\n",
    "    ).replace('<sos>', '')\n",
    "    for _ in range(10)\n",
    "]"
   ]
  },
  {
   "cell_type": "code",
   "execution_count": null,
   "metadata": {},
   "outputs": [],
   "source": []
  },
  {
   "cell_type": "code",
   "execution_count": 65,
   "metadata": {
    "id": "AAndqGcipBV3"
   },
   "outputs": [
    {
     "ename": "SyntaxError",
     "evalue": "invalid syntax (<ipython-input-65-6250272304d5>, line 1)",
     "output_type": "error",
     "traceback": [
      "\u001b[0;36m  Cell \u001b[0;32mIn[65], line 1\u001b[0;36m\u001b[0m\n\u001b[0;31m    output = {key: ','.join([str(x) for x in list(data.item()[key])]) for key in 'train', 'test'}\u001b[0m\n\u001b[0m                                                                                        ^\u001b[0m\n\u001b[0;31mSyntaxError\u001b[0m\u001b[0;31m:\u001b[0m invalid syntax\n"
     ]
    }
   ],
   "source": [
    "output = {key: ','.join([str(x) for x in list(data.item()[key])]) for key in 'train', 'test'}"
   ]
  },
  {
   "cell_type": "code",
   "execution_count": 100,
   "metadata": {
    "id": "eyw0SEStpBV3"
   },
   "outputs": [
    {
     "name": "stdout",
     "output_type": "stream",
     "text": [
      "File saved to `submission_dict_hw09.npy`\n"
     ]
    }
   ],
   "source": [
    "# do not change the code in the block below\n",
    "# __________start of block__________\n",
    "\n",
    "if \"generated_phrases\" not in locals():\n",
    "    raise ValueError(\"Please, save generated phrases to `generated_phrases` variable\")\n",
    "\n",
    "for phrase in generated_phrases:\n",
    "\n",
    "    if not isinstance(phrase, str):\n",
    "        raise ValueError(\"The generated phrase should be a string\")\n",
    "\n",
    "    if len(phrase) != 500:\n",
    "        raise ValueError(\"The `generated_phrase` length should be equal to 500\")\n",
    "\n",
    "    assert all(\n",
    "        [x in set(tokens) for x in set(list(phrase))]\n",
    "    ), \"Unknown tokens detected, check your submission!\"\n",
    "\n",
    "\n",
    "submission_dict = {\"token_to_idx\": token_to_idx, \"generated_phrases\": generated_phrases}\n",
    "\n",
    "np.save(\"submission_dict_hw09.npy\", submission_dict, allow_pickle=True)\n",
    "print(\"File saved to `submission_dict_hw09.npy`\")\n",
    "# __________end of block__________"
   ]
  },
  {
   "cell_type": "markdown",
   "metadata": {
    "id": "kama8KqGpBV3"
   },
   "source": [
    "На этом задание завершено. Поздравляем!"
   ]
  }
 ],
 "metadata": {
  "accelerator": "GPU",
  "anaconda-cloud": {},
  "colab": {
   "name": "NLP HW Lab01_Poetry_generation.v5.ipynb",
   "provenance": [],
   "toc_visible": true
  },
  "kernelspec": {
   "display_name": "Python 3",
   "language": "python",
   "name": "python3"
  },
  "language_info": {
   "codemirror_mode": {
    "name": "ipython",
    "version": 3
   },
   "file_extension": ".py",
   "mimetype": "text/x-python",
   "name": "python",
   "nbconvert_exporter": "python",
   "pygments_lexer": "ipython3",
   "version": "3.8.10"
  }
 },
 "nbformat": 4,
 "nbformat_minor": 1
}
